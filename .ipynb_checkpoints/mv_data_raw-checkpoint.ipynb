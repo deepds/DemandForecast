{
 "cells": [
  {
   "cell_type": "code",
   "execution_count": 1,
   "metadata": {},
   "outputs": [],
   "source": [
    "import numpy as np\n",
    "import pandas as pd"
   ]
  },
  {
   "cell_type": "code",
   "execution_count": 2,
   "metadata": {},
   "outputs": [],
   "source": [
    "data1 = pd.read_csv(\"C:/Users/I347500/Desktop/MVideo/data/DailySales.csv\", sep = ';', decimal = ',',\n",
    "                    parse_dates = ['DATE'], infer_datetime_format = True, low_memory = False)"
   ]
  },
  {
   "cell_type": "code",
   "execution_count": 3,
   "metadata": {},
   "outputs": [],
   "source": [
    "data1.PROMOTION_ID.fillna(0, inplace = True)"
   ]
  },
  {
   "cell_type": "code",
   "execution_count": 4,
   "metadata": {},
   "outputs": [],
   "source": [
    "data1.PROMOTION_ID = data1.PROMOTION_ID.astype('int64')"
   ]
  },
  {
   "cell_type": "code",
   "execution_count": 5,
   "metadata": {},
   "outputs": [],
   "source": [
    "data1.to_parquet(\"C:/Users/I347500/Desktop/MVideo/dailysales.parquet\")"
   ]
  },
  {
   "cell_type": "code",
   "execution_count": 6,
   "metadata": {},
   "outputs": [],
   "source": [
    "del data1"
   ]
  },
  {
   "cell_type": "code",
   "execution_count": 7,
   "metadata": {},
   "outputs": [],
   "source": [
    "data2 = pd.read_csv(\"C:/Users/I347500/Desktop/MVideo/data/Promotions.csv\", sep = ';', encoding = 'cp1251',\n",
    "                    parse_dates = ['PROMOTION_FROMDATE', 'PROMOTION_TODATE'], infer_datetime_format = True, low_memory = False)"
   ]
  },
  {
   "cell_type": "code",
   "execution_count": 8,
   "metadata": {},
   "outputs": [],
   "source": [
    "data2.to_parquet(\"C:/Users/I347500/Desktop/MVideo/promotions.parquet\")"
   ]
  },
  {
   "cell_type": "code",
   "execution_count": 9,
   "metadata": {},
   "outputs": [],
   "source": [
    "del data2"
   ]
  },
  {
   "cell_type": "code",
   "execution_count": 10,
   "metadata": {},
   "outputs": [],
   "source": [
    "data3 = pd.read_csv(\"C:/Users/I347500/Desktop/MVideo/data/Listings.csv\", sep = ';',\n",
    "                    parse_dates = ['LISTING_FROMDATE', 'LISTING_TODATE'], infer_datetime_format = True, low_memory = False)"
   ]
  },
  {
   "cell_type": "code",
   "execution_count": 11,
   "metadata": {},
   "outputs": [],
   "source": [
    "data3.to_parquet(\"C:/Users/I347500/Desktop/MVideo/listings.parquet\")"
   ]
  },
  {
   "cell_type": "code",
   "execution_count": 12,
   "metadata": {},
   "outputs": [],
   "source": [
    "del data3"
   ]
  },
  {
   "cell_type": "code",
   "execution_count": 61,
   "metadata": {},
   "outputs": [],
   "source": [
    "data4 = pd.read_csv(\"C:/Users/I347500/Desktop/MVideo/data/Products.csv\", sep = ';', encoding = 'cp1251',\n",
    "                    low_memory = False)"
   ]
  },
  {
   "cell_type": "code",
   "execution_count": 62,
   "metadata": {},
   "outputs": [
    {
     "data": {
      "text/plain": [
       "array(['ST', nan], dtype=object)"
      ]
     },
     "execution_count": 62,
     "metadata": {},
     "output_type": "execute_result"
    }
   ],
   "source": [
    "pd.unique(data4.BASE_UNIT_OF_MEASURE)"
   ]
  },
  {
   "cell_type": "code",
   "execution_count": 63,
   "metadata": {},
   "outputs": [],
   "source": [
    "data4.BASE_UNIT_OF_MEASURE.fillna('ST', inplace = True)"
   ]
  },
  {
   "cell_type": "code",
   "execution_count": 64,
   "metadata": {},
   "outputs": [],
   "source": [
    "data4.SUBCATEGORY_ID.fillna(0, inplace = True)"
   ]
  },
  {
   "cell_type": "code",
   "execution_count": 65,
   "metadata": {},
   "outputs": [],
   "source": [
    "data4.SUBCATEGORY_ID  = data4.SUBCATEGORY_ID.astype('int64')"
   ]
  },
  {
   "cell_type": "code",
   "execution_count": 66,
   "metadata": {},
   "outputs": [],
   "source": [
    "data4.to_parquet(\"C:/Users/I347500/Desktop/MVideo/products.parquet\")"
   ]
  },
  {
   "cell_type": "code",
   "execution_count": 67,
   "metadata": {},
   "outputs": [],
   "source": [
    "del data4"
   ]
  },
  {
   "cell_type": "code",
   "execution_count": 20,
   "metadata": {},
   "outputs": [],
   "source": [
    "data5 = pd.read_csv(\"C:/Users/I347500/Desktop/MVideo/data/ProductLocations.csv\", sep = ';', low_memory = False)"
   ]
  },
  {
   "cell_type": "code",
   "execution_count": 21,
   "metadata": {},
   "outputs": [],
   "source": [
    "data5.to_parquet(\"C:/Users/I347500/Desktop/MVideo/productlocations.parquet\")"
   ]
  },
  {
   "cell_type": "code",
   "execution_count": 22,
   "metadata": {},
   "outputs": [],
   "source": [
    "del data5"
   ]
  },
  {
   "cell_type": "code",
   "execution_count": 23,
   "metadata": {},
   "outputs": [],
   "source": [
    "data6 = pd.read_csv(\"C:/Users/I347500/Desktop/MVideo/data/Categories.csv\", sep = ';', encoding = 'cp1251', low_memory = False)"
   ]
  },
  {
   "cell_type": "code",
   "execution_count": 24,
   "metadata": {},
   "outputs": [],
   "source": [
    "data6.to_parquet(\"C:/Users/I347500/Desktop/MVideo/categories.parquet\")"
   ]
  },
  {
   "cell_type": "code",
   "execution_count": 25,
   "metadata": {},
   "outputs": [],
   "source": [
    "del data6"
   ]
  },
  {
   "cell_type": "code",
   "execution_count": 26,
   "metadata": {},
   "outputs": [],
   "source": [
    "data7 = pd.read_csv(\"C:/Users/I347500/Desktop/MVideo/data/Locations.csv\", sep = ';', encoding = 'cp1251',\n",
    "                    low_memory = False)"
   ]
  },
  {
   "cell_type": "code",
   "execution_count": 27,
   "metadata": {
    "scrolled": true
   },
   "outputs": [],
   "source": [
    "data7.to_parquet(\"C:/Users/I347500/Desktop/MVideo/locations.parquet\")"
   ]
  },
  {
   "cell_type": "code",
   "execution_count": 28,
   "metadata": {},
   "outputs": [],
   "source": [
    "del data7"
   ]
  },
  {
   "cell_type": "code",
   "execution_count": 31,
   "metadata": {},
   "outputs": [],
   "source": [
    "data8 = pd.read_excel(\"C:/Users/I347500/Desktop/MVideo/data/stores.xlsx\", header = None)"
   ]
  },
  {
   "cell_type": "code",
   "execution_count": 33,
   "metadata": {},
   "outputs": [],
   "source": [
    "data8.columns = ['Store_ID']"
   ]
  },
  {
   "cell_type": "code",
   "execution_count": 35,
   "metadata": {},
   "outputs": [],
   "source": [
    "data8.to_parquet(\"C:/Users/I347500/Desktop/MVideo/stores.parquet\")"
   ]
  },
  {
   "cell_type": "code",
   "execution_count": 36,
   "metadata": {},
   "outputs": [],
   "source": [
    "del data8"
   ]
  },
  {
   "cell_type": "code",
   "execution_count": 68,
   "metadata": {},
   "outputs": [],
   "source": [
    "data9 = pd.read_excel(\"C:/Users/I347500/Desktop/MVideo/data/skus.xlsx\", header = None)"
   ]
  },
  {
   "cell_type": "code",
   "execution_count": 69,
   "metadata": {},
   "outputs": [],
   "source": [
    "data9.columns = ['Product_ID']"
   ]
  },
  {
   "cell_type": "code",
   "execution_count": 70,
   "metadata": {},
   "outputs": [],
   "source": [
    "data9.to_parquet(\"C:/Users/I347500/Desktop/MVideo/skus.parquet\")"
   ]
  },
  {
   "cell_type": "code",
   "execution_count": 71,
   "metadata": {},
   "outputs": [],
   "source": [
    "del data9"
   ]
  },
  {
   "cell_type": "code",
   "execution_count": 45,
   "metadata": {},
   "outputs": [],
   "source": [
    "data10 = pd.read_excel(\"C:/Users/I347500/Desktop/MVideo/data/UDF_PoC_Excluded_Stores_and_SKUs.xlsx\",\n",
    "                       sheet_name = 0, header = None)"
   ]
  },
  {
   "cell_type": "code",
   "execution_count": 47,
   "metadata": {},
   "outputs": [],
   "source": [
    "data10.columns = ['Store_ID']"
   ]
  },
  {
   "cell_type": "code",
   "execution_count": 48,
   "metadata": {},
   "outputs": [],
   "source": [
    "data10.to_parquet(\"C:/Users/I347500/Desktop/MVideo/nostores.parquet\")"
   ]
  },
  {
   "cell_type": "code",
   "execution_count": 56,
   "metadata": {},
   "outputs": [],
   "source": [
    "del data10"
   ]
  },
  {
   "cell_type": "code",
   "execution_count": 72,
   "metadata": {},
   "outputs": [],
   "source": [
    "data11 = pd.read_excel(\"C:/Users/I347500/Desktop/MVideo/data/UDF_PoC_Excluded_Stores_and_SKUs.xlsx\",\n",
    "                       sheet_name = 1, header = None)"
   ]
  },
  {
   "cell_type": "code",
   "execution_count": 73,
   "metadata": {},
   "outputs": [],
   "source": [
    "data11.columns = ['Product_ID']"
   ]
  },
  {
   "cell_type": "code",
   "execution_count": 74,
   "metadata": {},
   "outputs": [],
   "source": [
    "data11.to_parquet(\"C:/Users/I347500/Desktop/MVideo/noskus.parquet\")"
   ]
  },
  {
   "cell_type": "code",
   "execution_count": 75,
   "metadata": {},
   "outputs": [],
   "source": [
    "del data11"
   ]
  },
  {
   "cell_type": "code",
   "execution_count": 57,
   "metadata": {},
   "outputs": [],
   "source": [
    "data12 = pd.read_excel(\"C:/Users/I347500/Desktop/MVideo/data/russian_holidays_calendar_2015-2019.xlsx\")"
   ]
  },
  {
   "cell_type": "code",
   "execution_count": 59,
   "metadata": {
    "scrolled": true
   },
   "outputs": [],
   "source": [
    "data12.to_parquet(\"C:/Users/I347500/Desktop/MVideo/sp_holidays.parquet\")"
   ]
  },
  {
   "cell_type": "code",
   "execution_count": 60,
   "metadata": {},
   "outputs": [],
   "source": [
    "del data12"
   ]
  }
 ],
 "metadata": {
  "kernelspec": {
   "display_name": "Python 3",
   "language": "python",
   "name": "python3"
  },
  "language_info": {
   "codemirror_mode": {
    "name": "ipython",
    "version": 3
   },
   "file_extension": ".py",
   "mimetype": "text/x-python",
   "name": "python",
   "nbconvert_exporter": "python",
   "pygments_lexer": "ipython3",
   "version": "3.6.6"
  }
 },
 "nbformat": 4,
 "nbformat_minor": 2
}
