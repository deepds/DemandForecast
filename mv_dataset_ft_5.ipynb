{
 "cells": [
  {
   "cell_type": "code",
   "execution_count": 1,
   "metadata": {},
   "outputs": [],
   "source": [
    "import numpy as np\n",
    "import pandas as pd"
   ]
  },
  {
   "cell_type": "code",
   "execution_count": 2,
   "metadata": {},
   "outputs": [],
   "source": [
    "from pandas.tseries.offsets import Day, Week"
   ]
  },
  {
   "cell_type": "code",
   "execution_count": 3,
   "metadata": {},
   "outputs": [],
   "source": [
    "stores = pd.read_parquet('/main/data/MVideo_2/stores.parquet')"
   ]
  },
  {
   "cell_type": "code",
   "execution_count": 4,
   "metadata": {},
   "outputs": [],
   "source": [
    "nostores = pd.read_parquet('/main/data/MVideo_2/nostores.parquet')"
   ]
  },
  {
   "cell_type": "code",
   "execution_count": 5,
   "metadata": {},
   "outputs": [],
   "source": [
    "st = np.setdiff1d(stores.Store_ID.values, nostores.Store_ID.values)"
   ]
  },
  {
   "cell_type": "code",
   "execution_count": 6,
   "metadata": {},
   "outputs": [],
   "source": [
    "products = pd.read_parquet('/main/data/MVideo_2/skus.parquet')"
   ]
  },
  {
   "cell_type": "code",
   "execution_count": 7,
   "metadata": {},
   "outputs": [],
   "source": [
    "noproducts = pd.read_parquet('/main/data/MVideo_2/noskus.parquet')"
   ]
  },
  {
   "cell_type": "code",
   "execution_count": 8,
   "metadata": {},
   "outputs": [],
   "source": [
    "pr = np.setdiff1d(products.Product_ID.values, noproducts.Product_ID.values)"
   ]
  },
  {
   "cell_type": "code",
   "execution_count": 9,
   "metadata": {},
   "outputs": [],
   "source": [
    "trans = pd.read_parquet('/main/data/MVideo_2/dailysales.parquet')"
   ]
  },
  {
   "cell_type": "code",
   "execution_count": 10,
   "metadata": {},
   "outputs": [],
   "source": [
    "trans1 = trans[\n",
    "    (trans.STORE_ID.isin(st)) &\n",
    "    (trans.PRODUCT_ID.isin(pr))\n",
    "].copy()"
   ]
  },
  {
   "cell_type": "code",
   "execution_count": 11,
   "metadata": {},
   "outputs": [],
   "source": [
    "trans1['PROMOTION'] = trans1.PROMOTION_ID != 0"
   ]
  },
  {
   "cell_type": "code",
   "execution_count": 12,
   "metadata": {},
   "outputs": [],
   "source": [
    "trans1['UNITS_SOLD_NP'] = trans1.UNITS_SOLD * (1 - trans1.PROMOTION)"
   ]
  },
  {
   "cell_type": "code",
   "execution_count": 13,
   "metadata": {},
   "outputs": [],
   "source": [
    "trans1['UNITS_SOLD_P'] = trans1.UNITS_SOLD * trans1.PROMOTION"
   ]
  },
  {
   "cell_type": "code",
   "execution_count": 14,
   "metadata": {},
   "outputs": [],
   "source": [
    "trans1['REVENUE_INCL_TAX_NP'] = trans1.REVENUE_INCL_TAX * (1 - trans1.PROMOTION)"
   ]
  },
  {
   "cell_type": "code",
   "execution_count": 15,
   "metadata": {},
   "outputs": [],
   "source": [
    "trans1['REVENUE_INCL_TAX_P'] = trans1.REVENUE_INCL_TAX * trans1.PROMOTION"
   ]
  },
  {
   "cell_type": "code",
   "execution_count": 16,
   "metadata": {},
   "outputs": [],
   "source": [
    "trans1.drop(columns = ['PROMOTION_ID', 'PROMOTION'], inplace = True)"
   ]
  },
  {
   "cell_type": "code",
   "execution_count": 17,
   "metadata": {},
   "outputs": [],
   "source": [
    "prods = pd.read_parquet('/main/data/MVideo_2/products.parquet')"
   ]
  },
  {
   "cell_type": "code",
   "execution_count": 18,
   "metadata": {},
   "outputs": [],
   "source": [
    "prods1 = prods[['PRODUCT_ID', 'SUBCATEGORY_ID']].copy()"
   ]
  },
  {
   "cell_type": "markdown",
   "metadata": {},
   "source": [
    "Последние 3 цифры однозначно определяют подкатегорию"
   ]
  },
  {
   "cell_type": "code",
   "execution_count": 19,
   "metadata": {},
   "outputs": [],
   "source": [
    "prods1.SUBCATEGORY_ID = prods1.SUBCATEGORY_ID.astype('str').str[-3:].astype('int')"
   ]
  },
  {
   "cell_type": "code",
   "execution_count": 20,
   "metadata": {},
   "outputs": [],
   "source": [
    "trans2 = trans1.merge(prods1, on = ['PRODUCT_ID'])"
   ]
  },
  {
   "cell_type": "code",
   "execution_count": 21,
   "metadata": {},
   "outputs": [
    {
     "name": "stdout",
     "output_type": "stream",
     "text": [
      "<class 'pandas.core.frame.DataFrame'>\n",
      "Int64Index: 1273748 entries, 0 to 1273747\n",
      "Data columns (total 10 columns):\n",
      "STORE_ID               1273748 non-null object\n",
      "PRODUCT_ID             1273748 non-null int64\n",
      "DATE                   1273748 non-null datetime64[ns]\n",
      "UNITS_SOLD             1273748 non-null int64\n",
      "REVENUE_INCL_TAX       1273748 non-null float64\n",
      "UNITS_SOLD_NP          1273748 non-null int64\n",
      "UNITS_SOLD_P           1273748 non-null int64\n",
      "REVENUE_INCL_TAX_NP    1273748 non-null float64\n",
      "REVENUE_INCL_TAX_P     1273748 non-null float64\n",
      "SUBCATEGORY_ID         1273748 non-null int64\n",
      "dtypes: datetime64[ns](1), float64(3), int64(5), object(1)\n",
      "memory usage: 106.9+ MB\n"
     ]
    }
   ],
   "source": [
    "trans2.info()"
   ]
  },
  {
   "cell_type": "code",
   "execution_count": 22,
   "metadata": {},
   "outputs": [],
   "source": [
    "trans2.to_parquet('/main/data/MVideo_2/transactions_ft_5.parquet')"
   ]
  },
  {
   "cell_type": "code",
   "execution_count": 23,
   "metadata": {},
   "outputs": [],
   "source": [
    "week = trans2[['DATE', 'STORE_ID', 'PRODUCT_ID']]"
   ]
  },
  {
   "cell_type": "code",
   "execution_count": 24,
   "metadata": {},
   "outputs": [],
   "source": [
    "del trans, trans1, trans2"
   ]
  },
  {
   "cell_type": "code",
   "execution_count": 25,
   "metadata": {},
   "outputs": [],
   "source": [
    "week1 = week.copy()"
   ]
  },
  {
   "cell_type": "code",
   "execution_count": 26,
   "metadata": {},
   "outputs": [],
   "source": [
    "week1.DATE = week1.DATE.where(week1.DATE == ((week1.DATE + Week(weekday=6)) - Week()), week1.DATE + Week(weekday=6))"
   ]
  },
  {
   "cell_type": "code",
   "execution_count": 27,
   "metadata": {},
   "outputs": [],
   "source": [
    "week1.drop_duplicates(inplace = True)"
   ]
  },
  {
   "cell_type": "code",
   "execution_count": 28,
   "metadata": {},
   "outputs": [
    {
     "data": {
      "text/plain": [
       "(801526, 3)"
      ]
     },
     "execution_count": 28,
     "metadata": {},
     "output_type": "execute_result"
    }
   ],
   "source": [
    "week1.shape"
   ]
  },
  {
   "cell_type": "code",
   "execution_count": 29,
   "metadata": {},
   "outputs": [],
   "source": [
    "week1min = week1.groupby(['STORE_ID', 'PRODUCT_ID'])[['DATE']].min().reset_index()"
   ]
  },
  {
   "cell_type": "code",
   "execution_count": 30,
   "metadata": {},
   "outputs": [],
   "source": [
    "week1max = week1.groupby(['STORE_ID', 'PRODUCT_ID'])[['DATE']].max().reset_index()"
   ]
  },
  {
   "cell_type": "code",
   "execution_count": 31,
   "metadata": {},
   "outputs": [],
   "source": [
    "weekrange = pd.merge(week1min, week1max, on = ['STORE_ID', 'PRODUCT_ID'])"
   ]
  },
  {
   "cell_type": "code",
   "execution_count": 32,
   "metadata": {},
   "outputs": [],
   "source": [
    "weekrange.rename(columns = {'DATE_x': 'DATE_MIN', 'DATE_y': 'DATE_MAX'}, inplace = True)"
   ]
  },
  {
   "cell_type": "markdown",
   "metadata": {},
   "source": [
    "Заполняем хвосты вправо в тесте"
   ]
  },
  {
   "cell_type": "code",
   "execution_count": 33,
   "metadata": {},
   "outputs": [],
   "source": [
    "weekrange.DATE_MAX = weekrange.DATE_MAX.where(weekrange.DATE_MAX < '2018-05-20', pd.Timestamp('2018-07-08'))"
   ]
  },
  {
   "cell_type": "code",
   "execution_count": 34,
   "metadata": {},
   "outputs": [],
   "source": [
    "#weekrange.DATE_MIN += Week(12)"
   ]
  },
  {
   "cell_type": "code",
   "execution_count": 35,
   "metadata": {},
   "outputs": [],
   "source": [
    "week2 = pd.merge(weekrange[['STORE_ID', 'PRODUCT_ID']].assign(key = 0),\n",
    "                 pd.DataFrame({'DATE': pd.date_range(start = weekrange.DATE_MIN.min(),\n",
    "                                                     end = weekrange.DATE_MAX.max(),\n",
    "                                                     freq = '7D')}).assign(key = 0),\n",
    "                 on = 'key').drop('key', axis = 1)"
   ]
  },
  {
   "cell_type": "code",
   "execution_count": 36,
   "metadata": {},
   "outputs": [
    {
     "data": {
      "text/plain": [
       "(12218514, 3)"
      ]
     },
     "execution_count": 36,
     "metadata": {},
     "output_type": "execute_result"
    }
   ],
   "source": [
    "week2.shape"
   ]
  },
  {
   "cell_type": "code",
   "execution_count": 37,
   "metadata": {
    "scrolled": true
   },
   "outputs": [],
   "source": [
    "week3 = week2.merge(weekrange, how = 'left', on = ['STORE_ID', 'PRODUCT_ID'])"
   ]
  },
  {
   "cell_type": "code",
   "execution_count": 38,
   "metadata": {},
   "outputs": [],
   "source": [
    "week4 = week3[\n",
    "    (week3.DATE >= week3.DATE_MIN) &\n",
    "    (week3.DATE <= week3.DATE_MAX)\n",
    "].copy()"
   ]
  },
  {
   "cell_type": "code",
   "execution_count": 39,
   "metadata": {},
   "outputs": [],
   "source": [
    "week4.drop(columns = ['DATE_MIN', 'DATE_MAX'], inplace = True)"
   ]
  },
  {
   "cell_type": "code",
   "execution_count": 40,
   "metadata": {},
   "outputs": [
    {
     "data": {
      "text/plain": [
       "(2943769, 3)"
      ]
     },
     "execution_count": 40,
     "metadata": {},
     "output_type": "execute_result"
    }
   ],
   "source": [
    "week4.shape"
   ]
  },
  {
   "cell_type": "code",
   "execution_count": 41,
   "metadata": {},
   "outputs": [],
   "source": [
    "#week4.to_parquet('/main/data/MVideo_2/transactions_ft_5_1.parquet')"
   ]
  },
  {
   "cell_type": "code",
   "execution_count": 42,
   "metadata": {},
   "outputs": [],
   "source": [
    "week4.DATE -= Day(7)"
   ]
  },
  {
   "cell_type": "code",
   "execution_count": 43,
   "metadata": {},
   "outputs": [],
   "source": [
    "week4 = week4[(week4.DATE > '2016-07-03')]"
   ]
  },
  {
   "cell_type": "code",
   "execution_count": 44,
   "metadata": {},
   "outputs": [
    {
     "data": {
      "text/plain": [
       "(2707492, 3)"
      ]
     },
     "execution_count": 44,
     "metadata": {},
     "output_type": "execute_result"
    }
   ],
   "source": [
    "week4[week4.DATE < '2018-05-13'].shape"
   ]
  },
  {
   "cell_type": "code",
   "execution_count": 45,
   "metadata": {},
   "outputs": [
    {
     "data": {
      "text/plain": [
       "(228237, 3)"
      ]
     },
     "execution_count": 45,
     "metadata": {},
     "output_type": "execute_result"
    }
   ],
   "source": [
    "week4[week4.DATE >= '2018-05-13'].shape"
   ]
  },
  {
   "cell_type": "code",
   "execution_count": 46,
   "metadata": {
    "scrolled": true
   },
   "outputs": [
    {
     "data": {
      "text/plain": [
       "<matplotlib.axes._subplots.AxesSubplot at 0x7f2df83d40f0>"
      ]
     },
     "execution_count": 46,
     "metadata": {},
     "output_type": "execute_result"
    }
   ],
   "source": [
    "week4.groupby(['STORE_ID', 'PRODUCT_ID']).count().DATE.hist(bins = 105)"
   ]
  },
  {
   "cell_type": "code",
   "execution_count": 47,
   "metadata": {},
   "outputs": [],
   "source": [
    "prods2 = prods[['PRODUCT_ID', 'MAINCATEGORY_ID', 'SUBCATEGORY_ID']].copy()"
   ]
  },
  {
   "cell_type": "code",
   "execution_count": 48,
   "metadata": {},
   "outputs": [],
   "source": [
    "prods2.SUBCATEGORY_ID = prods2.SUBCATEGORY_ID.astype('str').str[-3:].astype('int')"
   ]
  },
  {
   "cell_type": "code",
   "execution_count": 49,
   "metadata": {},
   "outputs": [],
   "source": [
    "week5 = week4.merge(prods2, on = ['PRODUCT_ID'])"
   ]
  },
  {
   "cell_type": "code",
   "execution_count": 50,
   "metadata": {
    "scrolled": true
   },
   "outputs": [
    {
     "data": {
      "text/html": [
       "<div>\n",
       "<style scoped>\n",
       "    .dataframe tbody tr th:only-of-type {\n",
       "        vertical-align: middle;\n",
       "    }\n",
       "\n",
       "    .dataframe tbody tr th {\n",
       "        vertical-align: top;\n",
       "    }\n",
       "\n",
       "    .dataframe thead th {\n",
       "        text-align: right;\n",
       "    }\n",
       "</style>\n",
       "<table border=\"1\" class=\"dataframe\">\n",
       "  <thead>\n",
       "    <tr style=\"text-align: right;\">\n",
       "      <th></th>\n",
       "      <th>STORE_ID</th>\n",
       "      <th>PRODUCT_ID</th>\n",
       "      <th>DATE</th>\n",
       "      <th>MAINCATEGORY_ID</th>\n",
       "      <th>SUBCATEGORY_ID</th>\n",
       "    </tr>\n",
       "  </thead>\n",
       "  <tbody>\n",
       "    <tr>\n",
       "      <th>0</th>\n",
       "      <td>S011</td>\n",
       "      <td>10007755</td>\n",
       "      <td>2016-08-14</td>\n",
       "      <td>107</td>\n",
       "      <td>302</td>\n",
       "    </tr>\n",
       "    <tr>\n",
       "      <th>1</th>\n",
       "      <td>S011</td>\n",
       "      <td>10007755</td>\n",
       "      <td>2016-08-21</td>\n",
       "      <td>107</td>\n",
       "      <td>302</td>\n",
       "    </tr>\n",
       "    <tr>\n",
       "      <th>2</th>\n",
       "      <td>S011</td>\n",
       "      <td>10007755</td>\n",
       "      <td>2016-08-28</td>\n",
       "      <td>107</td>\n",
       "      <td>302</td>\n",
       "    </tr>\n",
       "    <tr>\n",
       "      <th>3</th>\n",
       "      <td>S011</td>\n",
       "      <td>10007755</td>\n",
       "      <td>2016-09-04</td>\n",
       "      <td>107</td>\n",
       "      <td>302</td>\n",
       "    </tr>\n",
       "    <tr>\n",
       "      <th>4</th>\n",
       "      <td>S011</td>\n",
       "      <td>10007755</td>\n",
       "      <td>2016-09-11</td>\n",
       "      <td>107</td>\n",
       "      <td>302</td>\n",
       "    </tr>\n",
       "    <tr>\n",
       "      <th>5</th>\n",
       "      <td>S011</td>\n",
       "      <td>10007755</td>\n",
       "      <td>2016-09-18</td>\n",
       "      <td>107</td>\n",
       "      <td>302</td>\n",
       "    </tr>\n",
       "    <tr>\n",
       "      <th>6</th>\n",
       "      <td>S011</td>\n",
       "      <td>10007755</td>\n",
       "      <td>2016-09-25</td>\n",
       "      <td>107</td>\n",
       "      <td>302</td>\n",
       "    </tr>\n",
       "    <tr>\n",
       "      <th>7</th>\n",
       "      <td>S011</td>\n",
       "      <td>10007755</td>\n",
       "      <td>2016-10-02</td>\n",
       "      <td>107</td>\n",
       "      <td>302</td>\n",
       "    </tr>\n",
       "    <tr>\n",
       "      <th>8</th>\n",
       "      <td>S011</td>\n",
       "      <td>10007755</td>\n",
       "      <td>2016-10-09</td>\n",
       "      <td>107</td>\n",
       "      <td>302</td>\n",
       "    </tr>\n",
       "    <tr>\n",
       "      <th>9</th>\n",
       "      <td>S011</td>\n",
       "      <td>10007755</td>\n",
       "      <td>2016-10-16</td>\n",
       "      <td>107</td>\n",
       "      <td>302</td>\n",
       "    </tr>\n",
       "    <tr>\n",
       "      <th>10</th>\n",
       "      <td>S011</td>\n",
       "      <td>10007755</td>\n",
       "      <td>2016-10-23</td>\n",
       "      <td>107</td>\n",
       "      <td>302</td>\n",
       "    </tr>\n",
       "    <tr>\n",
       "      <th>11</th>\n",
       "      <td>S011</td>\n",
       "      <td>10007755</td>\n",
       "      <td>2016-10-30</td>\n",
       "      <td>107</td>\n",
       "      <td>302</td>\n",
       "    </tr>\n",
       "    <tr>\n",
       "      <th>12</th>\n",
       "      <td>S011</td>\n",
       "      <td>10007755</td>\n",
       "      <td>2016-11-06</td>\n",
       "      <td>107</td>\n",
       "      <td>302</td>\n",
       "    </tr>\n",
       "    <tr>\n",
       "      <th>13</th>\n",
       "      <td>S011</td>\n",
       "      <td>10007755</td>\n",
       "      <td>2016-11-13</td>\n",
       "      <td>107</td>\n",
       "      <td>302</td>\n",
       "    </tr>\n",
       "    <tr>\n",
       "      <th>14</th>\n",
       "      <td>S011</td>\n",
       "      <td>10007755</td>\n",
       "      <td>2016-11-20</td>\n",
       "      <td>107</td>\n",
       "      <td>302</td>\n",
       "    </tr>\n",
       "    <tr>\n",
       "      <th>15</th>\n",
       "      <td>S011</td>\n",
       "      <td>10007755</td>\n",
       "      <td>2016-11-27</td>\n",
       "      <td>107</td>\n",
       "      <td>302</td>\n",
       "    </tr>\n",
       "    <tr>\n",
       "      <th>16</th>\n",
       "      <td>S011</td>\n",
       "      <td>10007755</td>\n",
       "      <td>2016-12-04</td>\n",
       "      <td>107</td>\n",
       "      <td>302</td>\n",
       "    </tr>\n",
       "    <tr>\n",
       "      <th>17</th>\n",
       "      <td>S011</td>\n",
       "      <td>10007755</td>\n",
       "      <td>2016-12-11</td>\n",
       "      <td>107</td>\n",
       "      <td>302</td>\n",
       "    </tr>\n",
       "    <tr>\n",
       "      <th>18</th>\n",
       "      <td>S011</td>\n",
       "      <td>10007755</td>\n",
       "      <td>2016-12-18</td>\n",
       "      <td>107</td>\n",
       "      <td>302</td>\n",
       "    </tr>\n",
       "    <tr>\n",
       "      <th>19</th>\n",
       "      <td>S011</td>\n",
       "      <td>10007755</td>\n",
       "      <td>2016-12-25</td>\n",
       "      <td>107</td>\n",
       "      <td>302</td>\n",
       "    </tr>\n",
       "    <tr>\n",
       "      <th>20</th>\n",
       "      <td>S011</td>\n",
       "      <td>10007755</td>\n",
       "      <td>2017-01-01</td>\n",
       "      <td>107</td>\n",
       "      <td>302</td>\n",
       "    </tr>\n",
       "    <tr>\n",
       "      <th>21</th>\n",
       "      <td>S011</td>\n",
       "      <td>10007755</td>\n",
       "      <td>2017-01-08</td>\n",
       "      <td>107</td>\n",
       "      <td>302</td>\n",
       "    </tr>\n",
       "    <tr>\n",
       "      <th>22</th>\n",
       "      <td>S011</td>\n",
       "      <td>10007755</td>\n",
       "      <td>2017-01-15</td>\n",
       "      <td>107</td>\n",
       "      <td>302</td>\n",
       "    </tr>\n",
       "    <tr>\n",
       "      <th>23</th>\n",
       "      <td>S011</td>\n",
       "      <td>10007755</td>\n",
       "      <td>2017-01-22</td>\n",
       "      <td>107</td>\n",
       "      <td>302</td>\n",
       "    </tr>\n",
       "    <tr>\n",
       "      <th>24</th>\n",
       "      <td>S011</td>\n",
       "      <td>10007755</td>\n",
       "      <td>2017-01-29</td>\n",
       "      <td>107</td>\n",
       "      <td>302</td>\n",
       "    </tr>\n",
       "    <tr>\n",
       "      <th>25</th>\n",
       "      <td>S011</td>\n",
       "      <td>10007755</td>\n",
       "      <td>2017-02-05</td>\n",
       "      <td>107</td>\n",
       "      <td>302</td>\n",
       "    </tr>\n",
       "    <tr>\n",
       "      <th>26</th>\n",
       "      <td>S015</td>\n",
       "      <td>10007755</td>\n",
       "      <td>2016-07-10</td>\n",
       "      <td>107</td>\n",
       "      <td>302</td>\n",
       "    </tr>\n",
       "    <tr>\n",
       "      <th>27</th>\n",
       "      <td>S015</td>\n",
       "      <td>10007755</td>\n",
       "      <td>2016-07-17</td>\n",
       "      <td>107</td>\n",
       "      <td>302</td>\n",
       "    </tr>\n",
       "    <tr>\n",
       "      <th>28</th>\n",
       "      <td>S015</td>\n",
       "      <td>10007755</td>\n",
       "      <td>2016-07-24</td>\n",
       "      <td>107</td>\n",
       "      <td>302</td>\n",
       "    </tr>\n",
       "    <tr>\n",
       "      <th>29</th>\n",
       "      <td>S015</td>\n",
       "      <td>10007755</td>\n",
       "      <td>2016-07-31</td>\n",
       "      <td>107</td>\n",
       "      <td>302</td>\n",
       "    </tr>\n",
       "    <tr>\n",
       "      <th>...</th>\n",
       "      <td>...</td>\n",
       "      <td>...</td>\n",
       "      <td>...</td>\n",
       "      <td>...</td>\n",
       "      <td>...</td>\n",
       "    </tr>\n",
       "    <tr>\n",
       "      <th>2935699</th>\n",
       "      <td>S617</td>\n",
       "      <td>30019418</td>\n",
       "      <td>2017-03-05</td>\n",
       "      <td>205</td>\n",
       "      <td>101</td>\n",
       "    </tr>\n",
       "    <tr>\n",
       "      <th>2935700</th>\n",
       "      <td>S421</td>\n",
       "      <td>20040974</td>\n",
       "      <td>2018-05-13</td>\n",
       "      <td>402</td>\n",
       "      <td>104</td>\n",
       "    </tr>\n",
       "    <tr>\n",
       "      <th>2935701</th>\n",
       "      <td>S421</td>\n",
       "      <td>20040974</td>\n",
       "      <td>2018-05-20</td>\n",
       "      <td>402</td>\n",
       "      <td>104</td>\n",
       "    </tr>\n",
       "    <tr>\n",
       "      <th>2935702</th>\n",
       "      <td>S421</td>\n",
       "      <td>20040974</td>\n",
       "      <td>2018-05-27</td>\n",
       "      <td>402</td>\n",
       "      <td>104</td>\n",
       "    </tr>\n",
       "    <tr>\n",
       "      <th>2935703</th>\n",
       "      <td>S421</td>\n",
       "      <td>20040974</td>\n",
       "      <td>2018-06-03</td>\n",
       "      <td>402</td>\n",
       "      <td>104</td>\n",
       "    </tr>\n",
       "    <tr>\n",
       "      <th>2935704</th>\n",
       "      <td>S421</td>\n",
       "      <td>20040974</td>\n",
       "      <td>2018-06-10</td>\n",
       "      <td>402</td>\n",
       "      <td>104</td>\n",
       "    </tr>\n",
       "    <tr>\n",
       "      <th>2935705</th>\n",
       "      <td>S421</td>\n",
       "      <td>20040974</td>\n",
       "      <td>2018-06-17</td>\n",
       "      <td>402</td>\n",
       "      <td>104</td>\n",
       "    </tr>\n",
       "    <tr>\n",
       "      <th>2935706</th>\n",
       "      <td>S421</td>\n",
       "      <td>20040974</td>\n",
       "      <td>2018-06-24</td>\n",
       "      <td>402</td>\n",
       "      <td>104</td>\n",
       "    </tr>\n",
       "    <tr>\n",
       "      <th>2935707</th>\n",
       "      <td>S421</td>\n",
       "      <td>20040974</td>\n",
       "      <td>2018-07-01</td>\n",
       "      <td>402</td>\n",
       "      <td>104</td>\n",
       "    </tr>\n",
       "    <tr>\n",
       "      <th>2935708</th>\n",
       "      <td>S729</td>\n",
       "      <td>20040974</td>\n",
       "      <td>2018-07-01</td>\n",
       "      <td>402</td>\n",
       "      <td>104</td>\n",
       "    </tr>\n",
       "    <tr>\n",
       "      <th>2935709</th>\n",
       "      <td>S446</td>\n",
       "      <td>30019794</td>\n",
       "      <td>2016-09-18</td>\n",
       "      <td>205</td>\n",
       "      <td>101</td>\n",
       "    </tr>\n",
       "    <tr>\n",
       "      <th>2935710</th>\n",
       "      <td>S485</td>\n",
       "      <td>20025083</td>\n",
       "      <td>2017-01-08</td>\n",
       "      <td>402</td>\n",
       "      <td>104</td>\n",
       "    </tr>\n",
       "    <tr>\n",
       "      <th>2935711</th>\n",
       "      <td>S604</td>\n",
       "      <td>30021979</td>\n",
       "      <td>2016-08-07</td>\n",
       "      <td>205</td>\n",
       "      <td>101</td>\n",
       "    </tr>\n",
       "    <tr>\n",
       "      <th>2935712</th>\n",
       "      <td>S627</td>\n",
       "      <td>20053896</td>\n",
       "      <td>2018-07-01</td>\n",
       "      <td>402</td>\n",
       "      <td>104</td>\n",
       "    </tr>\n",
       "    <tr>\n",
       "      <th>2935713</th>\n",
       "      <td>S636</td>\n",
       "      <td>30038495</td>\n",
       "      <td>2018-06-03</td>\n",
       "      <td>205</td>\n",
       "      <td>103</td>\n",
       "    </tr>\n",
       "    <tr>\n",
       "      <th>2935714</th>\n",
       "      <td>S636</td>\n",
       "      <td>30038495</td>\n",
       "      <td>2018-06-10</td>\n",
       "      <td>205</td>\n",
       "      <td>103</td>\n",
       "    </tr>\n",
       "    <tr>\n",
       "      <th>2935715</th>\n",
       "      <td>S636</td>\n",
       "      <td>30038495</td>\n",
       "      <td>2018-06-17</td>\n",
       "      <td>205</td>\n",
       "      <td>103</td>\n",
       "    </tr>\n",
       "    <tr>\n",
       "      <th>2935716</th>\n",
       "      <td>S636</td>\n",
       "      <td>30038495</td>\n",
       "      <td>2018-06-24</td>\n",
       "      <td>205</td>\n",
       "      <td>103</td>\n",
       "    </tr>\n",
       "    <tr>\n",
       "      <th>2935717</th>\n",
       "      <td>S636</td>\n",
       "      <td>30038495</td>\n",
       "      <td>2018-07-01</td>\n",
       "      <td>205</td>\n",
       "      <td>103</td>\n",
       "    </tr>\n",
       "    <tr>\n",
       "      <th>2935718</th>\n",
       "      <td>S645</td>\n",
       "      <td>30020011</td>\n",
       "      <td>2017-06-04</td>\n",
       "      <td>205</td>\n",
       "      <td>101</td>\n",
       "    </tr>\n",
       "    <tr>\n",
       "      <th>2935719</th>\n",
       "      <td>S700</td>\n",
       "      <td>30038470</td>\n",
       "      <td>2018-06-17</td>\n",
       "      <td>205</td>\n",
       "      <td>101</td>\n",
       "    </tr>\n",
       "    <tr>\n",
       "      <th>2935720</th>\n",
       "      <td>S700</td>\n",
       "      <td>30038470</td>\n",
       "      <td>2018-06-24</td>\n",
       "      <td>205</td>\n",
       "      <td>101</td>\n",
       "    </tr>\n",
       "    <tr>\n",
       "      <th>2935721</th>\n",
       "      <td>S700</td>\n",
       "      <td>30038470</td>\n",
       "      <td>2018-07-01</td>\n",
       "      <td>205</td>\n",
       "      <td>101</td>\n",
       "    </tr>\n",
       "    <tr>\n",
       "      <th>2935722</th>\n",
       "      <td>S704</td>\n",
       "      <td>30036688</td>\n",
       "      <td>2018-07-01</td>\n",
       "      <td>205</td>\n",
       "      <td>101</td>\n",
       "    </tr>\n",
       "    <tr>\n",
       "      <th>2935723</th>\n",
       "      <td>S704</td>\n",
       "      <td>50115739</td>\n",
       "      <td>2018-06-24</td>\n",
       "      <td>205</td>\n",
       "      <td>101</td>\n",
       "    </tr>\n",
       "    <tr>\n",
       "      <th>2935724</th>\n",
       "      <td>S704</td>\n",
       "      <td>50115739</td>\n",
       "      <td>2018-07-01</td>\n",
       "      <td>205</td>\n",
       "      <td>101</td>\n",
       "    </tr>\n",
       "    <tr>\n",
       "      <th>2935725</th>\n",
       "      <td>S734</td>\n",
       "      <td>30038677</td>\n",
       "      <td>2018-07-01</td>\n",
       "      <td>205</td>\n",
       "      <td>101</td>\n",
       "    </tr>\n",
       "    <tr>\n",
       "      <th>2935726</th>\n",
       "      <td>S740</td>\n",
       "      <td>20053899</td>\n",
       "      <td>2018-07-01</td>\n",
       "      <td>402</td>\n",
       "      <td>104</td>\n",
       "    </tr>\n",
       "    <tr>\n",
       "      <th>2935727</th>\n",
       "      <td>S965</td>\n",
       "      <td>20042026</td>\n",
       "      <td>2018-06-24</td>\n",
       "      <td>402</td>\n",
       "      <td>104</td>\n",
       "    </tr>\n",
       "    <tr>\n",
       "      <th>2935728</th>\n",
       "      <td>S965</td>\n",
       "      <td>20042026</td>\n",
       "      <td>2018-07-01</td>\n",
       "      <td>402</td>\n",
       "      <td>104</td>\n",
       "    </tr>\n",
       "  </tbody>\n",
       "</table>\n",
       "<p>2935729 rows × 5 columns</p>\n",
       "</div>"
      ],
      "text/plain": [
       "        STORE_ID  PRODUCT_ID       DATE  MAINCATEGORY_ID  SUBCATEGORY_ID\n",
       "0           S011    10007755 2016-08-14              107             302\n",
       "1           S011    10007755 2016-08-21              107             302\n",
       "2           S011    10007755 2016-08-28              107             302\n",
       "3           S011    10007755 2016-09-04              107             302\n",
       "4           S011    10007755 2016-09-11              107             302\n",
       "5           S011    10007755 2016-09-18              107             302\n",
       "6           S011    10007755 2016-09-25              107             302\n",
       "7           S011    10007755 2016-10-02              107             302\n",
       "8           S011    10007755 2016-10-09              107             302\n",
       "9           S011    10007755 2016-10-16              107             302\n",
       "10          S011    10007755 2016-10-23              107             302\n",
       "11          S011    10007755 2016-10-30              107             302\n",
       "12          S011    10007755 2016-11-06              107             302\n",
       "13          S011    10007755 2016-11-13              107             302\n",
       "14          S011    10007755 2016-11-20              107             302\n",
       "15          S011    10007755 2016-11-27              107             302\n",
       "16          S011    10007755 2016-12-04              107             302\n",
       "17          S011    10007755 2016-12-11              107             302\n",
       "18          S011    10007755 2016-12-18              107             302\n",
       "19          S011    10007755 2016-12-25              107             302\n",
       "20          S011    10007755 2017-01-01              107             302\n",
       "21          S011    10007755 2017-01-08              107             302\n",
       "22          S011    10007755 2017-01-15              107             302\n",
       "23          S011    10007755 2017-01-22              107             302\n",
       "24          S011    10007755 2017-01-29              107             302\n",
       "25          S011    10007755 2017-02-05              107             302\n",
       "26          S015    10007755 2016-07-10              107             302\n",
       "27          S015    10007755 2016-07-17              107             302\n",
       "28          S015    10007755 2016-07-24              107             302\n",
       "29          S015    10007755 2016-07-31              107             302\n",
       "...          ...         ...        ...              ...             ...\n",
       "2935699     S617    30019418 2017-03-05              205             101\n",
       "2935700     S421    20040974 2018-05-13              402             104\n",
       "2935701     S421    20040974 2018-05-20              402             104\n",
       "2935702     S421    20040974 2018-05-27              402             104\n",
       "2935703     S421    20040974 2018-06-03              402             104\n",
       "2935704     S421    20040974 2018-06-10              402             104\n",
       "2935705     S421    20040974 2018-06-17              402             104\n",
       "2935706     S421    20040974 2018-06-24              402             104\n",
       "2935707     S421    20040974 2018-07-01              402             104\n",
       "2935708     S729    20040974 2018-07-01              402             104\n",
       "2935709     S446    30019794 2016-09-18              205             101\n",
       "2935710     S485    20025083 2017-01-08              402             104\n",
       "2935711     S604    30021979 2016-08-07              205             101\n",
       "2935712     S627    20053896 2018-07-01              402             104\n",
       "2935713     S636    30038495 2018-06-03              205             103\n",
       "2935714     S636    30038495 2018-06-10              205             103\n",
       "2935715     S636    30038495 2018-06-17              205             103\n",
       "2935716     S636    30038495 2018-06-24              205             103\n",
       "2935717     S636    30038495 2018-07-01              205             103\n",
       "2935718     S645    30020011 2017-06-04              205             101\n",
       "2935719     S700    30038470 2018-06-17              205             101\n",
       "2935720     S700    30038470 2018-06-24              205             101\n",
       "2935721     S700    30038470 2018-07-01              205             101\n",
       "2935722     S704    30036688 2018-07-01              205             101\n",
       "2935723     S704    50115739 2018-06-24              205             101\n",
       "2935724     S704    50115739 2018-07-01              205             101\n",
       "2935725     S734    30038677 2018-07-01              205             101\n",
       "2935726     S740    20053899 2018-07-01              402             104\n",
       "2935727     S965    20042026 2018-06-24              402             104\n",
       "2935728     S965    20042026 2018-07-01              402             104\n",
       "\n",
       "[2935729 rows x 5 columns]"
      ]
     },
     "execution_count": 50,
     "metadata": {},
     "output_type": "execute_result"
    }
   ],
   "source": [
    "week5"
   ]
  },
  {
   "cell_type": "code",
   "execution_count": 51,
   "metadata": {},
   "outputs": [],
   "source": [
    "prodlocs = pd.read_parquet('/main/data/MVideo_2/productlocations.parquet')"
   ]
  },
  {
   "cell_type": "code",
   "execution_count": 52,
   "metadata": {},
   "outputs": [],
   "source": [
    "prodlocs1 = prodlocs[['STORE_ID', 'PRODUCT_ID', 'REGULAR_SALES_PRICE_INCL_TAX']]"
   ]
  },
  {
   "cell_type": "code",
   "execution_count": 53,
   "metadata": {},
   "outputs": [],
   "source": [
    "week6 = week5.merge(prodlocs1, on = ['STORE_ID', 'PRODUCT_ID'])"
   ]
  },
  {
   "cell_type": "code",
   "execution_count": 54,
   "metadata": {},
   "outputs": [],
   "source": [
    "locs = pd.read_parquet('/main/data/MVideo_2/locations.parquet')"
   ]
  },
  {
   "cell_type": "code",
   "execution_count": 55,
   "metadata": {},
   "outputs": [],
   "source": [
    "locs1 = locs[locs.STORE_ID.isin(st)][['STORE_ID', 'REGION', 'STORETYPE']].copy()"
   ]
  },
  {
   "cell_type": "code",
   "execution_count": 56,
   "metadata": {},
   "outputs": [],
   "source": [
    "locs1.rename(columns = {'STORETYPE': 'INTERNET'}, inplace = True)"
   ]
  },
  {
   "cell_type": "code",
   "execution_count": 57,
   "metadata": {},
   "outputs": [],
   "source": [
    "locs1.REGION = locs1.REGION.map({'MV_Московский Дивизион': 77, 'MV_Сибирский Дивизион': 54})"
   ]
  },
  {
   "cell_type": "code",
   "execution_count": 58,
   "metadata": {},
   "outputs": [],
   "source": [
    "locs1.INTERNET = locs1.INTERNET.map({'Магазин': 0, 'Интернет магазин': 1})"
   ]
  },
  {
   "cell_type": "code",
   "execution_count": 59,
   "metadata": {},
   "outputs": [],
   "source": [
    "week7 = week6.merge(locs1, on = ['STORE_ID'])"
   ]
  },
  {
   "cell_type": "code",
   "execution_count": 60,
   "metadata": {},
   "outputs": [
    {
     "data": {
      "text/plain": [
       "(2935729, 8)"
      ]
     },
     "execution_count": 60,
     "metadata": {},
     "output_type": "execute_result"
    }
   ],
   "source": [
    "week7.shape"
   ]
  },
  {
   "cell_type": "code",
   "execution_count": 61,
   "metadata": {},
   "outputs": [
    {
     "data": {
      "text/plain": [
       "0"
      ]
     },
     "execution_count": 61,
     "metadata": {},
     "output_type": "execute_result"
    }
   ],
   "source": [
    "week7.isnull().sum().sum()"
   ]
  },
  {
   "cell_type": "code",
   "execution_count": 62,
   "metadata": {},
   "outputs": [
    {
     "name": "stdout",
     "output_type": "stream",
     "text": [
      "<class 'pandas.core.frame.DataFrame'>\n",
      "Int64Index: 2935729 entries, 0 to 2935728\n",
      "Data columns (total 8 columns):\n",
      "STORE_ID                        object\n",
      "PRODUCT_ID                      int64\n",
      "DATE                            datetime64[ns]\n",
      "MAINCATEGORY_ID                 int64\n",
      "SUBCATEGORY_ID                  int64\n",
      "REGULAR_SALES_PRICE_INCL_TAX    int64\n",
      "REGION                          int64\n",
      "INTERNET                        int64\n",
      "dtypes: datetime64[ns](1), int64(6), object(1)\n",
      "memory usage: 201.6+ MB\n"
     ]
    }
   ],
   "source": [
    "week7.info()"
   ]
  },
  {
   "cell_type": "code",
   "execution_count": 63,
   "metadata": {},
   "outputs": [],
   "source": [
    "del week1, week2, week3, week4, week5, week6"
   ]
  },
  {
   "cell_type": "code",
   "execution_count": 64,
   "metadata": {},
   "outputs": [],
   "source": [
    "promos = pd.read_parquet('/main/data/MVideo_2/promotions.parquet')"
   ]
  },
  {
   "cell_type": "code",
   "execution_count": 65,
   "metadata": {},
   "outputs": [],
   "source": [
    "promos1 = promos[\n",
    "    (promos.STORE_ID.isin(st)) &\n",
    "    (promos.PRODUCT_ID.isin(pr))\n",
    "].reset_index(drop = True).copy()"
   ]
  },
  {
   "cell_type": "code",
   "execution_count": 66,
   "metadata": {},
   "outputs": [],
   "source": [
    "promos1.drop(columns = ['PROMOTION_ID', 'PROMOTION_DESCRIPTION'], inplace = True)"
   ]
  },
  {
   "cell_type": "code",
   "execution_count": 67,
   "metadata": {},
   "outputs": [],
   "source": [
    "promos1.PROMOTION_FROMDATE.where(promos1.PROMOTION_FROMDATE == ((promos1.PROMOTION_FROMDATE + Week(weekday=6)) - Week()),\n",
    "                                 promos1.PROMOTION_FROMDATE + Week(weekday=6),\n",
    "                                 inplace = True)"
   ]
  },
  {
   "cell_type": "code",
   "execution_count": 68,
   "metadata": {},
   "outputs": [],
   "source": [
    "promos1.PROMOTION_TODATE.where(promos1.PROMOTION_TODATE == ((promos1.PROMOTION_TODATE + Week(weekday=6)) - Week()),\n",
    "                               promos1.PROMOTION_TODATE + Week(weekday=6),\n",
    "                               inplace = True)"
   ]
  },
  {
   "cell_type": "code",
   "execution_count": 69,
   "metadata": {},
   "outputs": [
    {
     "data": {
      "text/html": [
       "<div>\n",
       "<style scoped>\n",
       "    .dataframe tbody tr th:only-of-type {\n",
       "        vertical-align: middle;\n",
       "    }\n",
       "\n",
       "    .dataframe tbody tr th {\n",
       "        vertical-align: top;\n",
       "    }\n",
       "\n",
       "    .dataframe thead th {\n",
       "        text-align: right;\n",
       "    }\n",
       "</style>\n",
       "<table border=\"1\" class=\"dataframe\">\n",
       "  <thead>\n",
       "    <tr style=\"text-align: right;\">\n",
       "      <th></th>\n",
       "      <th>PROMOTION_FROMDATE</th>\n",
       "      <th>PROMOTION_TODATE</th>\n",
       "      <th>STORE_ID</th>\n",
       "      <th>PRODUCT_ID</th>\n",
       "    </tr>\n",
       "  </thead>\n",
       "  <tbody>\n",
       "    <tr>\n",
       "      <th>0</th>\n",
       "      <td>2016-07-03</td>\n",
       "      <td>2016-07-03</td>\n",
       "      <td>S280</td>\n",
       "      <td>20031605</td>\n",
       "    </tr>\n",
       "    <tr>\n",
       "      <th>1</th>\n",
       "      <td>2016-07-31</td>\n",
       "      <td>2016-07-31</td>\n",
       "      <td>S306</td>\n",
       "      <td>10007828</td>\n",
       "    </tr>\n",
       "    <tr>\n",
       "      <th>2</th>\n",
       "      <td>2016-10-09</td>\n",
       "      <td>2016-10-09</td>\n",
       "      <td>S280</td>\n",
       "      <td>10010108</td>\n",
       "    </tr>\n",
       "    <tr>\n",
       "      <th>3</th>\n",
       "      <td>2016-11-20</td>\n",
       "      <td>2016-11-20</td>\n",
       "      <td>S459</td>\n",
       "      <td>10010261</td>\n",
       "    </tr>\n",
       "    <tr>\n",
       "      <th>4</th>\n",
       "      <td>2016-11-27</td>\n",
       "      <td>2016-11-27</td>\n",
       "      <td>S223</td>\n",
       "      <td>10010514</td>\n",
       "    </tr>\n",
       "  </tbody>\n",
       "</table>\n",
       "</div>"
      ],
      "text/plain": [
       "  PROMOTION_FROMDATE PROMOTION_TODATE STORE_ID  PRODUCT_ID\n",
       "0         2016-07-03       2016-07-03     S280    20031605\n",
       "1         2016-07-31       2016-07-31     S306    10007828\n",
       "2         2016-10-09       2016-10-09     S280    10010108\n",
       "3         2016-11-20       2016-11-20     S459    10010261\n",
       "4         2016-11-27       2016-11-27     S223    10010514"
      ]
     },
     "execution_count": 69,
     "metadata": {},
     "output_type": "execute_result"
    }
   ],
   "source": [
    "promos1.head()"
   ]
  },
  {
   "cell_type": "code",
   "execution_count": 70,
   "metadata": {},
   "outputs": [],
   "source": [
    "promos2 = pd.merge(promos1[['STORE_ID', 'PRODUCT_ID']].assign(key = 0),\n",
    "                 pd.DataFrame({'DATE': pd.date_range(start = promos1.PROMOTION_FROMDATE.min(),\n",
    "                                                     end = promos1.PROMOTION_TODATE.max(),\n",
    "                                                     freq = '7D')}).assign(key = 0),\n",
    "                 on = 'key').drop('key', axis = 1)"
   ]
  },
  {
   "cell_type": "code",
   "execution_count": 71,
   "metadata": {},
   "outputs": [],
   "source": [
    "promos3 = promos2.merge(promos1, how = 'left', on = ['STORE_ID', 'PRODUCT_ID'])"
   ]
  },
  {
   "cell_type": "code",
   "execution_count": 72,
   "metadata": {},
   "outputs": [],
   "source": [
    "del promos1, promos2"
   ]
  },
  {
   "cell_type": "code",
   "execution_count": 73,
   "metadata": {},
   "outputs": [
    {
     "data": {
      "text/html": [
       "<div>\n",
       "<style scoped>\n",
       "    .dataframe tbody tr th:only-of-type {\n",
       "        vertical-align: middle;\n",
       "    }\n",
       "\n",
       "    .dataframe tbody tr th {\n",
       "        vertical-align: top;\n",
       "    }\n",
       "\n",
       "    .dataframe thead th {\n",
       "        text-align: right;\n",
       "    }\n",
       "</style>\n",
       "<table border=\"1\" class=\"dataframe\">\n",
       "  <thead>\n",
       "    <tr style=\"text-align: right;\">\n",
       "      <th></th>\n",
       "      <th>STORE_ID</th>\n",
       "      <th>PRODUCT_ID</th>\n",
       "      <th>DATE</th>\n",
       "      <th>PROMOTION_FROMDATE</th>\n",
       "      <th>PROMOTION_TODATE</th>\n",
       "    </tr>\n",
       "  </thead>\n",
       "  <tbody>\n",
       "    <tr>\n",
       "      <th>0</th>\n",
       "      <td>S280</td>\n",
       "      <td>20031605</td>\n",
       "      <td>2016-05-15</td>\n",
       "      <td>2016-07-03</td>\n",
       "      <td>2016-07-03</td>\n",
       "    </tr>\n",
       "    <tr>\n",
       "      <th>1</th>\n",
       "      <td>S280</td>\n",
       "      <td>20031605</td>\n",
       "      <td>2016-05-15</td>\n",
       "      <td>2016-09-18</td>\n",
       "      <td>2017-01-01</td>\n",
       "    </tr>\n",
       "    <tr>\n",
       "      <th>2</th>\n",
       "      <td>S280</td>\n",
       "      <td>20031605</td>\n",
       "      <td>2016-05-15</td>\n",
       "      <td>2016-09-25</td>\n",
       "      <td>2017-01-01</td>\n",
       "    </tr>\n",
       "    <tr>\n",
       "      <th>3</th>\n",
       "      <td>S280</td>\n",
       "      <td>20031605</td>\n",
       "      <td>2016-05-15</td>\n",
       "      <td>2017-02-05</td>\n",
       "      <td>2017-07-09</td>\n",
       "    </tr>\n",
       "    <tr>\n",
       "      <th>4</th>\n",
       "      <td>S280</td>\n",
       "      <td>20031605</td>\n",
       "      <td>2016-05-15</td>\n",
       "      <td>2016-12-18</td>\n",
       "      <td>2017-04-02</td>\n",
       "    </tr>\n",
       "  </tbody>\n",
       "</table>\n",
       "</div>"
      ],
      "text/plain": [
       "  STORE_ID  PRODUCT_ID       DATE PROMOTION_FROMDATE PROMOTION_TODATE\n",
       "0     S280    20031605 2016-05-15         2016-07-03       2016-07-03\n",
       "1     S280    20031605 2016-05-15         2016-09-18       2017-01-01\n",
       "2     S280    20031605 2016-05-15         2016-09-25       2017-01-01\n",
       "3     S280    20031605 2016-05-15         2017-02-05       2017-07-09\n",
       "4     S280    20031605 2016-05-15         2016-12-18       2017-04-02"
      ]
     },
     "execution_count": 73,
     "metadata": {},
     "output_type": "execute_result"
    }
   ],
   "source": [
    "promos3.head()"
   ]
  },
  {
   "cell_type": "code",
   "execution_count": 74,
   "metadata": {},
   "outputs": [
    {
     "name": "stdout",
     "output_type": "stream",
     "text": [
      "<class 'pandas.core.frame.DataFrame'>\n",
      "Int64Index: 1000771783 entries, 0 to 1000771782\n",
      "Data columns (total 5 columns):\n",
      "STORE_ID              object\n",
      "PRODUCT_ID            int64\n",
      "DATE                  datetime64[ns]\n",
      "PROMOTION_FROMDATE    datetime64[ns]\n",
      "PROMOTION_TODATE      datetime64[ns]\n",
      "dtypes: datetime64[ns](3), int64(1), object(1)\n",
      "memory usage: 44.7+ GB\n"
     ]
    }
   ],
   "source": [
    "promos3.info()"
   ]
  },
  {
   "cell_type": "code",
   "execution_count": 75,
   "metadata": {},
   "outputs": [],
   "source": [
    "promos4 = promos3[\n",
    "    (promos3.DATE >= promos3.PROMOTION_FROMDATE) &\n",
    "    (promos3.DATE <= promos3.PROMOTION_TODATE)\n",
    "].copy()"
   ]
  },
  {
   "cell_type": "code",
   "execution_count": 76,
   "metadata": {},
   "outputs": [
    {
     "data": {
      "text/html": [
       "<div>\n",
       "<style scoped>\n",
       "    .dataframe tbody tr th:only-of-type {\n",
       "        vertical-align: middle;\n",
       "    }\n",
       "\n",
       "    .dataframe tbody tr th {\n",
       "        vertical-align: top;\n",
       "    }\n",
       "\n",
       "    .dataframe thead th {\n",
       "        text-align: right;\n",
       "    }\n",
       "</style>\n",
       "<table border=\"1\" class=\"dataframe\">\n",
       "  <thead>\n",
       "    <tr style=\"text-align: right;\">\n",
       "      <th></th>\n",
       "      <th>STORE_ID</th>\n",
       "      <th>PRODUCT_ID</th>\n",
       "      <th>DATE</th>\n",
       "      <th>PROMOTION_FROMDATE</th>\n",
       "      <th>PROMOTION_TODATE</th>\n",
       "    </tr>\n",
       "  </thead>\n",
       "  <tbody>\n",
       "    <tr>\n",
       "      <th>35</th>\n",
       "      <td>S280</td>\n",
       "      <td>20031605</td>\n",
       "      <td>2016-07-03</td>\n",
       "      <td>2016-07-03</td>\n",
       "      <td>2016-07-03</td>\n",
       "    </tr>\n",
       "    <tr>\n",
       "      <th>91</th>\n",
       "      <td>S280</td>\n",
       "      <td>20031605</td>\n",
       "      <td>2016-09-18</td>\n",
       "      <td>2016-09-18</td>\n",
       "      <td>2017-01-01</td>\n",
       "    </tr>\n",
       "    <tr>\n",
       "      <th>96</th>\n",
       "      <td>S280</td>\n",
       "      <td>20031605</td>\n",
       "      <td>2016-09-25</td>\n",
       "      <td>2016-09-18</td>\n",
       "      <td>2017-01-01</td>\n",
       "    </tr>\n",
       "    <tr>\n",
       "      <th>97</th>\n",
       "      <td>S280</td>\n",
       "      <td>20031605</td>\n",
       "      <td>2016-09-25</td>\n",
       "      <td>2016-09-25</td>\n",
       "      <td>2017-01-01</td>\n",
       "    </tr>\n",
       "    <tr>\n",
       "      <th>101</th>\n",
       "      <td>S280</td>\n",
       "      <td>20031605</td>\n",
       "      <td>2016-10-02</td>\n",
       "      <td>2016-09-18</td>\n",
       "      <td>2017-01-01</td>\n",
       "    </tr>\n",
       "  </tbody>\n",
       "</table>\n",
       "</div>"
      ],
      "text/plain": [
       "    STORE_ID  PRODUCT_ID       DATE PROMOTION_FROMDATE PROMOTION_TODATE\n",
       "35      S280    20031605 2016-07-03         2016-07-03       2016-07-03\n",
       "91      S280    20031605 2016-09-18         2016-09-18       2017-01-01\n",
       "96      S280    20031605 2016-09-25         2016-09-18       2017-01-01\n",
       "97      S280    20031605 2016-09-25         2016-09-25       2017-01-01\n",
       "101     S280    20031605 2016-10-02         2016-09-18       2017-01-01"
      ]
     },
     "execution_count": 76,
     "metadata": {},
     "output_type": "execute_result"
    }
   ],
   "source": [
    "promos4.head()"
   ]
  },
  {
   "cell_type": "code",
   "execution_count": 77,
   "metadata": {},
   "outputs": [],
   "source": [
    "del promos3"
   ]
  },
  {
   "cell_type": "code",
   "execution_count": 78,
   "metadata": {},
   "outputs": [
    {
     "name": "stdout",
     "output_type": "stream",
     "text": [
      "<class 'pandas.core.frame.DataFrame'>\n",
      "Int64Index: 89125419 entries, 35 to 1000771582\n",
      "Data columns (total 5 columns):\n",
      "STORE_ID              object\n",
      "PRODUCT_ID            int64\n",
      "DATE                  datetime64[ns]\n",
      "PROMOTION_FROMDATE    datetime64[ns]\n",
      "PROMOTION_TODATE      datetime64[ns]\n",
      "dtypes: datetime64[ns](3), int64(1), object(1)\n",
      "memory usage: 4.0+ GB\n"
     ]
    }
   ],
   "source": [
    "promos4.info()"
   ]
  },
  {
   "cell_type": "code",
   "execution_count": 80,
   "metadata": {},
   "outputs": [],
   "source": [
    "promos5 = promos4.groupby(['STORE_ID', 'PRODUCT_ID', 'DATE']).count().reset_index()"
   ]
  },
  {
   "cell_type": "code",
   "execution_count": 84,
   "metadata": {},
   "outputs": [],
   "source": [
    "promos5.drop(columns = 'PROMOTION_TODATE', inplace = True)"
   ]
  },
  {
   "cell_type": "code",
   "execution_count": 86,
   "metadata": {},
   "outputs": [],
   "source": [
    "promos5.rename(columns = {'PROMOTION_FROMDATE': 'PROMOTIONS_AVAILABLE'}, inplace = True)"
   ]
  },
  {
   "cell_type": "code",
   "execution_count": 65,
   "metadata": {},
   "outputs": [
    {
     "data": {
      "text/html": [
       "<div>\n",
       "<style scoped>\n",
       "    .dataframe tbody tr th:only-of-type {\n",
       "        vertical-align: middle;\n",
       "    }\n",
       "\n",
       "    .dataframe tbody tr th {\n",
       "        vertical-align: top;\n",
       "    }\n",
       "\n",
       "    .dataframe thead th {\n",
       "        text-align: right;\n",
       "    }\n",
       "</style>\n",
       "<table border=\"1\" class=\"dataframe\">\n",
       "  <thead>\n",
       "    <tr style=\"text-align: right;\">\n",
       "      <th></th>\n",
       "      <th>STORE_ID</th>\n",
       "      <th>PRODUCT_ID</th>\n",
       "      <th>DATE</th>\n",
       "      <th>PROMOTIONS_AVAILABLE</th>\n",
       "    </tr>\n",
       "  </thead>\n",
       "  <tbody>\n",
       "    <tr>\n",
       "      <th>0</th>\n",
       "      <td>S011</td>\n",
       "      <td>10007755</td>\n",
       "      <td>2017-01-29</td>\n",
       "      <td>1</td>\n",
       "    </tr>\n",
       "    <tr>\n",
       "      <th>1</th>\n",
       "      <td>S011</td>\n",
       "      <td>10007755</td>\n",
       "      <td>2017-02-05</td>\n",
       "      <td>1</td>\n",
       "    </tr>\n",
       "    <tr>\n",
       "      <th>2</th>\n",
       "      <td>S011</td>\n",
       "      <td>10007755</td>\n",
       "      <td>2017-02-12</td>\n",
       "      <td>1</td>\n",
       "    </tr>\n",
       "    <tr>\n",
       "      <th>3</th>\n",
       "      <td>S011</td>\n",
       "      <td>10007755</td>\n",
       "      <td>2017-02-19</td>\n",
       "      <td>1</td>\n",
       "    </tr>\n",
       "    <tr>\n",
       "      <th>4</th>\n",
       "      <td>S011</td>\n",
       "      <td>10007755</td>\n",
       "      <td>2017-02-26</td>\n",
       "      <td>1</td>\n",
       "    </tr>\n",
       "  </tbody>\n",
       "</table>\n",
       "</div>"
      ],
      "text/plain": [
       "  STORE_ID  PRODUCT_ID       DATE  PROMOTIONS_AVAILABLE\n",
       "0     S011    10007755 2017-01-29                     1\n",
       "1     S011    10007755 2017-02-05                     1\n",
       "2     S011    10007755 2017-02-12                     1\n",
       "3     S011    10007755 2017-02-19                     1\n",
       "4     S011    10007755 2017-02-26                     1"
      ]
     },
     "execution_count": 65,
     "metadata": {},
     "output_type": "execute_result"
    }
   ],
   "source": [
    "promos5.head()"
   ]
  },
  {
   "cell_type": "code",
   "execution_count": 66,
   "metadata": {},
   "outputs": [
    {
     "data": {
      "text/plain": [
       "<matplotlib.axes._subplots.AxesSubplot at 0x7f2defd56160>"
      ]
     },
     "execution_count": 66,
     "metadata": {},
     "output_type": "execute_result"
    },
    {
     "data": {
      "image/png": "[encoded data removed]",
      "text/plain": [
       "<Figure size 432x288 with 1 Axes>"
      ]
     },
     "metadata": {},
     "output_type": "display_data"
    }
   ],
   "source": [
    "promos5.PROMOTIONS_AVAILABLE.hist(bins = 100)"
   ]
  },
  {
   "cell_type": "code",
   "execution_count": 88,
   "metadata": {},
   "outputs": [],
   "source": [
    "#promos5.to_parquet('/main/data/MVideo_2/prom_temp.parquet')"
   ]
  },
  {
   "cell_type": "code",
   "execution_count": 64,
   "metadata": {},
   "outputs": [],
   "source": [
    "#promos5 = pd.read_parquet('/main/data/MVideo_2/prom_temp.parquet')"
   ]
  },
  {
   "cell_type": "code",
   "execution_count": 90,
   "metadata": {},
   "outputs": [],
   "source": [
    "week8 = week7.copy()"
   ]
  },
  {
   "cell_type": "code",
   "execution_count": 91,
   "metadata": {},
   "outputs": [
    {
     "name": "stdout",
     "output_type": "stream",
     "text": [
      "0\n",
      "1\n",
      "2\n",
      "3\n",
      "4\n",
      "5\n",
      "6\n",
      "7\n",
      "8\n"
     ]
    }
   ],
   "source": [
    "for i in range(9):\n",
    "    tpromos = promos5.copy()\n",
    "    tpromos.DATE += pd.Timedelta(str(7 * i) + ' days')\n",
    "    tpromos.rename(columns = {'PROMOTIONS_AVAILABLE': 'PROMOTIONS_AVAILABLE_W' + str(i)}, inplace = True)\n",
    "    week8 = pd.merge(week8, tpromos, how = 'left')\n",
    "    print(i)"
   ]
  },
  {
   "cell_type": "code",
   "execution_count": 92,
   "metadata": {},
   "outputs": [],
   "source": [
    "tpromos = promos5.copy()\n",
    "tpromos.DATE -= pd.Timedelta('7 days')\n",
    "tpromos.rename(columns = {'PROMOTIONS_AVAILABLE': 'PROMOTIONS_AVAILABLE_P1'}, inplace = True)\n",
    "week8 = pd.merge(week8, tpromos, how = 'left')"
   ]
  },
  {
   "cell_type": "code",
   "execution_count": 94,
   "metadata": {},
   "outputs": [],
   "source": [
    "week8.fillna(0, inplace = True)"
   ]
  },
  {
   "cell_type": "code",
   "execution_count": 95,
   "metadata": {},
   "outputs": [
    {
     "data": {
      "text/plain": [
       "<matplotlib.axes._subplots.AxesSubplot at 0x7f2df79e79b0>"
      ]
     },
     "execution_count": 95,
     "metadata": {},
     "output_type": "execute_result"
    },
    {
     "data": {
      "image/png": "[encoded data removed]",
      "text/plain": [
       "<Figure size 432x288 with 1 Axes>"
      ]
     },
     "metadata": {},
     "output_type": "display_data"
    }
   ],
   "source": [
    "week8.PROMOTIONS_AVAILABLE_W0.hist(bins = 100)"
   ]
  },
  {
   "cell_type": "code",
   "execution_count": 96,
   "metadata": {},
   "outputs": [],
   "source": [
    "li = {}\n",
    "for i in range(3):\n",
    "    li[i] = []\n",
    "for i in range(8):\n",
    "    li[0].append('PROMOTIONS_AVAILABLE_DIFF_W' + str(i))\n",
    "    li[1].append('PROMOTIONS_AVAILABLE_W' + str(i))\n",
    "    li[2].append('PROMOTIONS_AVAILABLE_W' + str(i + 1))\n",
    "tpromos = pd.DataFrame(data = week8[li[1]].values - week8[li[2]].values, index = week8.index, columns = li[0])"
   ]
  },
  {
   "cell_type": "code",
   "execution_count": 97,
   "metadata": {},
   "outputs": [],
   "source": [
    "week8 = week8.join(tpromos)"
   ]
  },
  {
   "cell_type": "code",
   "execution_count": 98,
   "metadata": {},
   "outputs": [],
   "source": [
    "week8[li[0]] = week8[li[0]].apply(np.abs)"
   ]
  },
  {
   "cell_type": "code",
   "execution_count": 99,
   "metadata": {},
   "outputs": [],
   "source": [
    "tpromos = week8[li[0]]\n",
    "week8['PROMOTIONS_AVAILABLE_ABS_DIFF_MEAN_8'] = tpromos.mean(axis = 1)"
   ]
  },
  {
   "cell_type": "code",
   "execution_count": 100,
   "metadata": {},
   "outputs": [
    {
     "data": {
      "text/plain": [
       "<matplotlib.axes._subplots.AxesSubplot at 0x7f2df52a5dd8>"
      ]
     },
     "execution_count": 100,
     "metadata": {},
     "output_type": "execute_result"
    },
    {
     "data": {
      "image/png": "[encoded data removed]",
      "text/plain": [
       "<Figure size 432x288 with 1 Axes>"
      ]
     },
     "metadata": {},
     "output_type": "display_data"
    }
   ],
   "source": [
    "week8.PROMOTIONS_AVAILABLE_ABS_DIFF_MEAN_8.hist()"
   ]
  },
  {
   "cell_type": "code",
   "execution_count": 101,
   "metadata": {},
   "outputs": [],
   "source": [
    "week8.drop(columns = li[0], inplace = True)"
   ]
  },
  {
   "cell_type": "code",
   "execution_count": 103,
   "metadata": {},
   "outputs": [],
   "source": [
    "week8['PROMOTIONS_AVAILABLE_DIFF_P1'] = week8.PROMOTIONS_AVAILABLE_P1 - week8.PROMOTIONS_AVAILABLE_W0"
   ]
  },
  {
   "cell_type": "code",
   "execution_count": 104,
   "metadata": {},
   "outputs": [
    {
     "data": {
      "text/html": [
       "<div>\n",
       "<style scoped>\n",
       "    .dataframe tbody tr th:only-of-type {\n",
       "        vertical-align: middle;\n",
       "    }\n",
       "\n",
       "    .dataframe tbody tr th {\n",
       "        vertical-align: top;\n",
       "    }\n",
       "\n",
       "    .dataframe thead th {\n",
       "        text-align: right;\n",
       "    }\n",
       "</style>\n",
       "<table border=\"1\" class=\"dataframe\">\n",
       "  <thead>\n",
       "    <tr style=\"text-align: right;\">\n",
       "      <th></th>\n",
       "      <th>STORE_ID</th>\n",
       "      <th>PRODUCT_ID</th>\n",
       "      <th>DATE</th>\n",
       "      <th>MAINCATEGORY_ID</th>\n",
       "      <th>SUBCATEGORY_ID</th>\n",
       "      <th>REGULAR_SALES_PRICE_INCL_TAX</th>\n",
       "      <th>REGION</th>\n",
       "      <th>INTERNET</th>\n",
       "      <th>PROMOTIONS_AVAILABLE_W0</th>\n",
       "      <th>PROMOTIONS_AVAILABLE_W1</th>\n",
       "      <th>PROMOTIONS_AVAILABLE_W2</th>\n",
       "      <th>PROMOTIONS_AVAILABLE_W3</th>\n",
       "      <th>PROMOTIONS_AVAILABLE_W4</th>\n",
       "      <th>PROMOTIONS_AVAILABLE_W5</th>\n",
       "      <th>PROMOTIONS_AVAILABLE_W6</th>\n",
       "      <th>PROMOTIONS_AVAILABLE_W7</th>\n",
       "      <th>PROMOTIONS_AVAILABLE_W8</th>\n",
       "      <th>PROMOTIONS_AVAILABLE_P1</th>\n",
       "      <th>PROMOTIONS_AVAILABLE_ABS_DIFF_MEAN_8</th>\n",
       "      <th>PROMOTIONS_AVAILABLE_DIFF_P1</th>\n",
       "    </tr>\n",
       "  </thead>\n",
       "  <tbody>\n",
       "    <tr>\n",
       "      <th>0</th>\n",
       "      <td>S011</td>\n",
       "      <td>10007755</td>\n",
       "      <td>2016-08-14</td>\n",
       "      <td>107</td>\n",
       "      <td>302</td>\n",
       "      <td>6990</td>\n",
       "      <td>77</td>\n",
       "      <td>0</td>\n",
       "      <td>0.0</td>\n",
       "      <td>0.0</td>\n",
       "      <td>0.0</td>\n",
       "      <td>0.0</td>\n",
       "      <td>0.0</td>\n",
       "      <td>0.0</td>\n",
       "      <td>0.0</td>\n",
       "      <td>0.0</td>\n",
       "      <td>0.0</td>\n",
       "      <td>0.0</td>\n",
       "      <td>0.0</td>\n",
       "      <td>0.0</td>\n",
       "    </tr>\n",
       "    <tr>\n",
       "      <th>1</th>\n",
       "      <td>S011</td>\n",
       "      <td>10007755</td>\n",
       "      <td>2016-08-21</td>\n",
       "      <td>107</td>\n",
       "      <td>302</td>\n",
       "      <td>6990</td>\n",
       "      <td>77</td>\n",
       "      <td>0</td>\n",
       "      <td>0.0</td>\n",
       "      <td>0.0</td>\n",
       "      <td>0.0</td>\n",
       "      <td>0.0</td>\n",
       "      <td>0.0</td>\n",
       "      <td>0.0</td>\n",
       "      <td>0.0</td>\n",
       "      <td>0.0</td>\n",
       "      <td>0.0</td>\n",
       "      <td>0.0</td>\n",
       "      <td>0.0</td>\n",
       "      <td>0.0</td>\n",
       "    </tr>\n",
       "    <tr>\n",
       "      <th>2</th>\n",
       "      <td>S011</td>\n",
       "      <td>10007755</td>\n",
       "      <td>2016-08-28</td>\n",
       "      <td>107</td>\n",
       "      <td>302</td>\n",
       "      <td>6990</td>\n",
       "      <td>77</td>\n",
       "      <td>0</td>\n",
       "      <td>0.0</td>\n",
       "      <td>0.0</td>\n",
       "      <td>0.0</td>\n",
       "      <td>0.0</td>\n",
       "      <td>0.0</td>\n",
       "      <td>0.0</td>\n",
       "      <td>0.0</td>\n",
       "      <td>0.0</td>\n",
       "      <td>0.0</td>\n",
       "      <td>0.0</td>\n",
       "      <td>0.0</td>\n",
       "      <td>0.0</td>\n",
       "    </tr>\n",
       "    <tr>\n",
       "      <th>3</th>\n",
       "      <td>S011</td>\n",
       "      <td>10007755</td>\n",
       "      <td>2016-09-04</td>\n",
       "      <td>107</td>\n",
       "      <td>302</td>\n",
       "      <td>6990</td>\n",
       "      <td>77</td>\n",
       "      <td>0</td>\n",
       "      <td>0.0</td>\n",
       "      <td>0.0</td>\n",
       "      <td>0.0</td>\n",
       "      <td>0.0</td>\n",
       "      <td>0.0</td>\n",
       "      <td>0.0</td>\n",
       "      <td>0.0</td>\n",
       "      <td>0.0</td>\n",
       "      <td>0.0</td>\n",
       "      <td>0.0</td>\n",
       "      <td>0.0</td>\n",
       "      <td>0.0</td>\n",
       "    </tr>\n",
       "    <tr>\n",
       "      <th>4</th>\n",
       "      <td>S011</td>\n",
       "      <td>10007755</td>\n",
       "      <td>2016-09-11</td>\n",
       "      <td>107</td>\n",
       "      <td>302</td>\n",
       "      <td>6990</td>\n",
       "      <td>77</td>\n",
       "      <td>0</td>\n",
       "      <td>0.0</td>\n",
       "      <td>0.0</td>\n",
       "      <td>0.0</td>\n",
       "      <td>0.0</td>\n",
       "      <td>0.0</td>\n",
       "      <td>0.0</td>\n",
       "      <td>0.0</td>\n",
       "      <td>0.0</td>\n",
       "      <td>0.0</td>\n",
       "      <td>0.0</td>\n",
       "      <td>0.0</td>\n",
       "      <td>0.0</td>\n",
       "    </tr>\n",
       "  </tbody>\n",
       "</table>\n",
       "</div>"
      ],
      "text/plain": [
       "  STORE_ID  PRODUCT_ID       DATE  MAINCATEGORY_ID  SUBCATEGORY_ID  \\\n",
       "0     S011    10007755 2016-08-14              107             302   \n",
       "1     S011    10007755 2016-08-21              107             302   \n",
       "2     S011    10007755 2016-08-28              107             302   \n",
       "3     S011    10007755 2016-09-04              107             302   \n",
       "4     S011    10007755 2016-09-11              107             302   \n",
       "\n",
       "   REGULAR_SALES_PRICE_INCL_TAX  REGION  INTERNET  PROMOTIONS_AVAILABLE_W0  \\\n",
       "0                          6990      77         0                      0.0   \n",
       "1                          6990      77         0                      0.0   \n",
       "2                          6990      77         0                      0.0   \n",
       "3                          6990      77         0                      0.0   \n",
       "4                          6990      77         0                      0.0   \n",
       "\n",
       "   PROMOTIONS_AVAILABLE_W1  PROMOTIONS_AVAILABLE_W2  PROMOTIONS_AVAILABLE_W3  \\\n",
       "0                      0.0                      0.0                      0.0   \n",
       "1                      0.0                      0.0                      0.0   \n",
       "2                      0.0                      0.0                      0.0   \n",
       "3                      0.0                      0.0                      0.0   \n",
       "4                      0.0                      0.0                      0.0   \n",
       "\n",
       "   PROMOTIONS_AVAILABLE_W4  PROMOTIONS_AVAILABLE_W5  PROMOTIONS_AVAILABLE_W6  \\\n",
       "0                      0.0                      0.0                      0.0   \n",
       "1                      0.0                      0.0                      0.0   \n",
       "2                      0.0                      0.0                      0.0   \n",
       "3                      0.0                      0.0                      0.0   \n",
       "4                      0.0                      0.0                      0.0   \n",
       "\n",
       "   PROMOTIONS_AVAILABLE_W7  PROMOTIONS_AVAILABLE_W8  PROMOTIONS_AVAILABLE_P1  \\\n",
       "0                      0.0                      0.0                      0.0   \n",
       "1                      0.0                      0.0                      0.0   \n",
       "2                      0.0                      0.0                      0.0   \n",
       "3                      0.0                      0.0                      0.0   \n",
       "4                      0.0                      0.0                      0.0   \n",
       "\n",
       "   PROMOTIONS_AVAILABLE_ABS_DIFF_MEAN_8  PROMOTIONS_AVAILABLE_DIFF_P1  \n",
       "0                                   0.0                           0.0  \n",
       "1                                   0.0                           0.0  \n",
       "2                                   0.0                           0.0  \n",
       "3                                   0.0                           0.0  \n",
       "4                                   0.0                           0.0  "
      ]
     },
     "execution_count": 104,
     "metadata": {},
     "output_type": "execute_result"
    }
   ],
   "source": [
    "week8.head()"
   ]
  },
  {
   "cell_type": "code",
   "execution_count": 105,
   "metadata": {},
   "outputs": [
    {
     "name": "stdout",
     "output_type": "stream",
     "text": [
      "<class 'pandas.core.frame.DataFrame'>\n",
      "Int64Index: 2935729 entries, 0 to 2935728\n",
      "Data columns (total 20 columns):\n",
      "STORE_ID                                object\n",
      "PRODUCT_ID                              int64\n",
      "DATE                                    datetime64[ns]\n",
      "MAINCATEGORY_ID                         int64\n",
      "SUBCATEGORY_ID                          int64\n",
      "REGULAR_SALES_PRICE_INCL_TAX            int64\n",
      "REGION                                  int64\n",
      "INTERNET                                int64\n",
      "PROMOTIONS_AVAILABLE_W0                 float64\n",
      "PROMOTIONS_AVAILABLE_W1                 float64\n",
      "PROMOTIONS_AVAILABLE_W2                 float64\n",
      "PROMOTIONS_AVAILABLE_W3                 float64\n",
      "PROMOTIONS_AVAILABLE_W4                 float64\n",
      "PROMOTIONS_AVAILABLE_W5                 float64\n",
      "PROMOTIONS_AVAILABLE_W6                 float64\n",
      "PROMOTIONS_AVAILABLE_W7                 float64\n",
      "PROMOTIONS_AVAILABLE_W8                 float64\n",
      "PROMOTIONS_AVAILABLE_P1                 float64\n",
      "PROMOTIONS_AVAILABLE_ABS_DIFF_MEAN_8    float64\n",
      "PROMOTIONS_AVAILABLE_DIFF_P1            float64\n",
      "dtypes: datetime64[ns](1), float64(12), int64(6), object(1)\n",
      "memory usage: 550.4+ MB\n"
     ]
    }
   ],
   "source": [
    "week8.info()"
   ]
  },
  {
   "cell_type": "code",
   "execution_count": 106,
   "metadata": {},
   "outputs": [],
   "source": [
    "week8.to_parquet('/main/data/MVideo_2/week_ft_5.parquet')"
   ]
  },
  {
   "cell_type": "code",
   "execution_count": 3,
   "metadata": {},
   "outputs": [],
   "source": [
    "holidays = pd.DataFrame({'DATE': pd.date_range(start = '2015-01-01', end = '2018-12-31')})"
   ]
  },
  {
   "cell_type": "code",
   "execution_count": 4,
   "metadata": {},
   "outputs": [],
   "source": [
    "holidays['HOLIDAY'] = pd.Series(pd.date_range(start = '2015-01-01', end = '2018-12-31').dayofweek)"
   ]
  },
  {
   "cell_type": "code",
   "execution_count": 5,
   "metadata": {},
   "outputs": [],
   "source": [
    "hol_dict = {0 : 0, 1 : 0, 2 : 0, 3 : 0, 4 : 0, 5 : 1, 6 : 1}"
   ]
  },
  {
   "cell_type": "code",
   "execution_count": 6,
   "metadata": {},
   "outputs": [],
   "source": [
    "holidays.HOLIDAY = holidays.HOLIDAY.map(hol_dict)"
   ]
  },
  {
   "cell_type": "code",
   "execution_count": 7,
   "metadata": {},
   "outputs": [],
   "source": [
    "extra_hol = [\n",
    "            '2015-01-01','2015-01-02', '2015-01-05', '2015-01-06', '2015-01-07', '2015-01-08', '2015-01-09', '2015-02-23',\n",
    "            '2015-03-09', '2015-05-01', '2015-05-04', '2015-05-11', '2015-06-12', '2015-11-04',\n",
    "            '2016-01-01', '2016-01-04', '2016-01-05', '2016-01-06', '2016-01-07', '2016-01-08', '2016-02-22', '2016-02-23',\n",
    "            '2016-03-07', '2016-03-08', '2016-05-02', '2016-05-03', '2016-05-09', '2016-06-13', '2016-11-04',\n",
    "            '2017-01-02', '2017-01-03', '2017-01-04', '2017-01-05', '2017-01-06', '2017-02-23', '2017-02-24', '2017-03-08',\n",
    "            '2017-05-01', '2017-05-08', '2017-05-09', '2017-06-12', '2017-11-06',\n",
    "            '2018-01-01', '2018-01-02', '2018-01-03', '2018-01-04', '2018-01-05', '2018-01-08', '2018-02-23', '2018-03-08',\n",
    "            '2018-03-09', '2018-04-30', '2018-05-01', '2018-05-02', '2018-05-09', '2018-06-11', '2018-06-12', '2018-11-05',\n",
    "            '2018-12-31'\n",
    "]"
   ]
  },
  {
   "cell_type": "code",
   "execution_count": 8,
   "metadata": {},
   "outputs": [],
   "source": [
    "holidays.HOLIDAY.mask(holidays.DATE.isin(extra_hol), 1, inplace = True)"
   ]
  },
  {
   "cell_type": "code",
   "execution_count": 9,
   "metadata": {},
   "outputs": [],
   "source": [
    "excess_hol = ['2016-02-20', '2018-04-28', '2018-06-09', '2018-12-29']"
   ]
  },
  {
   "cell_type": "code",
   "execution_count": 10,
   "metadata": {},
   "outputs": [],
   "source": [
    "holidays.HOLIDAY.mask(holidays.DATE.isin(excess_hol), 0, inplace = True)"
   ]
  },
  {
   "cell_type": "code",
   "execution_count": 11,
   "metadata": {},
   "outputs": [],
   "source": [
    "holidays.HOLIDAY = holidays.HOLIDAY.astype('bool')"
   ]
  },
  {
   "cell_type": "code",
   "execution_count": 12,
   "metadata": {},
   "outputs": [],
   "source": [
    "hol_sp = pd.read_parquet('/main/data/MVideo_2/sp_holidays.parquet')"
   ]
  },
  {
   "cell_type": "code",
   "execution_count": 13,
   "metadata": {},
   "outputs": [],
   "source": [
    "hol_sp.columns = ['YEAR', 'DATE', 'WDAY', 'HOLIDAY_NAME', 'HOLIDAY_TYPE']"
   ]
  },
  {
   "cell_type": "code",
   "execution_count": 14,
   "metadata": {},
   "outputs": [],
   "source": [
    "hol_sp = hol_sp[hol_sp['HOLIDAY_TYPE'] != 'Season']"
   ]
  },
  {
   "cell_type": "code",
   "execution_count": 15,
   "metadata": {},
   "outputs": [],
   "source": [
    "hol_sp.DATE.mask(hol_sp.DATE == 'Jan 14', 'Jan 13', inplace = True)"
   ]
  },
  {
   "cell_type": "code",
   "execution_count": 16,
   "metadata": {
    "scrolled": true
   },
   "outputs": [],
   "source": [
    "hol_sp['MONTH'] = hol_sp.DATE.str[0:3]"
   ]
  },
  {
   "cell_type": "code",
   "execution_count": 17,
   "metadata": {},
   "outputs": [],
   "source": [
    "m_dict = {'Jan': 1, 'Feb': 2, 'Mar': 3, 'Apr': 4, 'May': 5, 'Jun': 6,\n",
    "          'Jul': 7, 'Aug': 8, 'Sep': 9, 'Oct': 10, 'Nov': 11, 'Dec': 12}"
   ]
  },
  {
   "cell_type": "code",
   "execution_count": 18,
   "metadata": {},
   "outputs": [],
   "source": [
    "hol_sp.MONTH = hol_sp.MONTH.map(m_dict)"
   ]
  },
  {
   "cell_type": "code",
   "execution_count": 19,
   "metadata": {},
   "outputs": [],
   "source": [
    "hol_sp['DAY'] = hol_sp.DATE.str[-2:]"
   ]
  },
  {
   "cell_type": "code",
   "execution_count": 20,
   "metadata": {},
   "outputs": [],
   "source": [
    "hol_sp.DATE = pd.to_datetime(hol_sp[['YEAR', 'MONTH', 'DAY']])"
   ]
  },
  {
   "cell_type": "code",
   "execution_count": 21,
   "metadata": {},
   "outputs": [],
   "source": [
    "hol_sp['HOLIDAY_SP'] = 1"
   ]
  },
  {
   "cell_type": "code",
   "execution_count": 23,
   "metadata": {
    "scrolled": true
   },
   "outputs": [],
   "source": [
    "holidays = holidays.merge(hol_sp, how = 'left')"
   ]
  },
  {
   "cell_type": "code",
   "execution_count": 24,
   "metadata": {},
   "outputs": [],
   "source": [
    "holidays = holidays[['DATE', 'HOLIDAY', 'HOLIDAY_SP']].copy()"
   ]
  },
  {
   "cell_type": "code",
   "execution_count": 25,
   "metadata": {},
   "outputs": [],
   "source": [
    "holidays.fillna(0, inplace = True)"
   ]
  },
  {
   "cell_type": "code",
   "execution_count": 26,
   "metadata": {},
   "outputs": [],
   "source": [
    "holidays.HOLIDAY_SP = holidays.HOLIDAY_SP.astype('bool')"
   ]
  },
  {
   "cell_type": "code",
   "execution_count": 27,
   "metadata": {},
   "outputs": [],
   "source": [
    "holidays.drop_duplicates(inplace = True)"
   ]
  },
  {
   "cell_type": "code",
   "execution_count": 28,
   "metadata": {
    "scrolled": true
   },
   "outputs": [
    {
     "data": {
      "text/html": [
       "<div>\n",
       "<style scoped>\n",
       "    .dataframe tbody tr th:only-of-type {\n",
       "        vertical-align: middle;\n",
       "    }\n",
       "\n",
       "    .dataframe tbody tr th {\n",
       "        vertical-align: top;\n",
       "    }\n",
       "\n",
       "    .dataframe thead th {\n",
       "        text-align: right;\n",
       "    }\n",
       "</style>\n",
       "<table border=\"1\" class=\"dataframe\">\n",
       "  <thead>\n",
       "    <tr style=\"text-align: right;\">\n",
       "      <th></th>\n",
       "      <th>DATE</th>\n",
       "      <th>HOLIDAY</th>\n",
       "      <th>HOLIDAY_SP</th>\n",
       "    </tr>\n",
       "  </thead>\n",
       "  <tbody>\n",
       "    <tr>\n",
       "      <th>0</th>\n",
       "      <td>2015-01-01</td>\n",
       "      <td>True</td>\n",
       "      <td>True</td>\n",
       "    </tr>\n",
       "    <tr>\n",
       "      <th>1</th>\n",
       "      <td>2015-01-02</td>\n",
       "      <td>True</td>\n",
       "      <td>True</td>\n",
       "    </tr>\n",
       "    <tr>\n",
       "      <th>2</th>\n",
       "      <td>2015-01-03</td>\n",
       "      <td>True</td>\n",
       "      <td>True</td>\n",
       "    </tr>\n",
       "    <tr>\n",
       "      <th>3</th>\n",
       "      <td>2015-01-04</td>\n",
       "      <td>True</td>\n",
       "      <td>True</td>\n",
       "    </tr>\n",
       "    <tr>\n",
       "      <th>4</th>\n",
       "      <td>2015-01-05</td>\n",
       "      <td>True</td>\n",
       "      <td>True</td>\n",
       "    </tr>\n",
       "    <tr>\n",
       "      <th>5</th>\n",
       "      <td>2015-01-06</td>\n",
       "      <td>True</td>\n",
       "      <td>True</td>\n",
       "    </tr>\n",
       "    <tr>\n",
       "      <th>6</th>\n",
       "      <td>2015-01-07</td>\n",
       "      <td>True</td>\n",
       "      <td>True</td>\n",
       "    </tr>\n",
       "    <tr>\n",
       "      <th>7</th>\n",
       "      <td>2015-01-08</td>\n",
       "      <td>True</td>\n",
       "      <td>True</td>\n",
       "    </tr>\n",
       "    <tr>\n",
       "      <th>8</th>\n",
       "      <td>2015-01-09</td>\n",
       "      <td>True</td>\n",
       "      <td>True</td>\n",
       "    </tr>\n",
       "    <tr>\n",
       "      <th>9</th>\n",
       "      <td>2015-01-10</td>\n",
       "      <td>True</td>\n",
       "      <td>False</td>\n",
       "    </tr>\n",
       "    <tr>\n",
       "      <th>10</th>\n",
       "      <td>2015-01-11</td>\n",
       "      <td>True</td>\n",
       "      <td>False</td>\n",
       "    </tr>\n",
       "    <tr>\n",
       "      <th>11</th>\n",
       "      <td>2015-01-12</td>\n",
       "      <td>False</td>\n",
       "      <td>False</td>\n",
       "    </tr>\n",
       "    <tr>\n",
       "      <th>12</th>\n",
       "      <td>2015-01-13</td>\n",
       "      <td>False</td>\n",
       "      <td>True</td>\n",
       "    </tr>\n",
       "    <tr>\n",
       "      <th>13</th>\n",
       "      <td>2015-01-14</td>\n",
       "      <td>False</td>\n",
       "      <td>False</td>\n",
       "    </tr>\n",
       "    <tr>\n",
       "      <th>14</th>\n",
       "      <td>2015-01-15</td>\n",
       "      <td>False</td>\n",
       "      <td>False</td>\n",
       "    </tr>\n",
       "    <tr>\n",
       "      <th>15</th>\n",
       "      <td>2015-01-16</td>\n",
       "      <td>False</td>\n",
       "      <td>False</td>\n",
       "    </tr>\n",
       "    <tr>\n",
       "      <th>16</th>\n",
       "      <td>2015-01-17</td>\n",
       "      <td>True</td>\n",
       "      <td>False</td>\n",
       "    </tr>\n",
       "    <tr>\n",
       "      <th>17</th>\n",
       "      <td>2015-01-18</td>\n",
       "      <td>True</td>\n",
       "      <td>False</td>\n",
       "    </tr>\n",
       "    <tr>\n",
       "      <th>18</th>\n",
       "      <td>2015-01-19</td>\n",
       "      <td>False</td>\n",
       "      <td>False</td>\n",
       "    </tr>\n",
       "    <tr>\n",
       "      <th>19</th>\n",
       "      <td>2015-01-20</td>\n",
       "      <td>False</td>\n",
       "      <td>False</td>\n",
       "    </tr>\n",
       "    <tr>\n",
       "      <th>20</th>\n",
       "      <td>2015-01-21</td>\n",
       "      <td>False</td>\n",
       "      <td>False</td>\n",
       "    </tr>\n",
       "    <tr>\n",
       "      <th>21</th>\n",
       "      <td>2015-01-22</td>\n",
       "      <td>False</td>\n",
       "      <td>False</td>\n",
       "    </tr>\n",
       "    <tr>\n",
       "      <th>22</th>\n",
       "      <td>2015-01-23</td>\n",
       "      <td>False</td>\n",
       "      <td>False</td>\n",
       "    </tr>\n",
       "    <tr>\n",
       "      <th>23</th>\n",
       "      <td>2015-01-24</td>\n",
       "      <td>True</td>\n",
       "      <td>False</td>\n",
       "    </tr>\n",
       "    <tr>\n",
       "      <th>24</th>\n",
       "      <td>2015-01-25</td>\n",
       "      <td>True</td>\n",
       "      <td>False</td>\n",
       "    </tr>\n",
       "    <tr>\n",
       "      <th>25</th>\n",
       "      <td>2015-01-26</td>\n",
       "      <td>False</td>\n",
       "      <td>False</td>\n",
       "    </tr>\n",
       "    <tr>\n",
       "      <th>26</th>\n",
       "      <td>2015-01-27</td>\n",
       "      <td>False</td>\n",
       "      <td>False</td>\n",
       "    </tr>\n",
       "    <tr>\n",
       "      <th>27</th>\n",
       "      <td>2015-01-28</td>\n",
       "      <td>False</td>\n",
       "      <td>False</td>\n",
       "    </tr>\n",
       "    <tr>\n",
       "      <th>28</th>\n",
       "      <td>2015-01-29</td>\n",
       "      <td>False</td>\n",
       "      <td>False</td>\n",
       "    </tr>\n",
       "    <tr>\n",
       "      <th>29</th>\n",
       "      <td>2015-01-30</td>\n",
       "      <td>False</td>\n",
       "      <td>False</td>\n",
       "    </tr>\n",
       "    <tr>\n",
       "      <th>...</th>\n",
       "      <td>...</td>\n",
       "      <td>...</td>\n",
       "      <td>...</td>\n",
       "    </tr>\n",
       "    <tr>\n",
       "      <th>1432</th>\n",
       "      <td>2018-12-02</td>\n",
       "      <td>True</td>\n",
       "      <td>False</td>\n",
       "    </tr>\n",
       "    <tr>\n",
       "      <th>1433</th>\n",
       "      <td>2018-12-03</td>\n",
       "      <td>False</td>\n",
       "      <td>False</td>\n",
       "    </tr>\n",
       "    <tr>\n",
       "      <th>1434</th>\n",
       "      <td>2018-12-04</td>\n",
       "      <td>False</td>\n",
       "      <td>False</td>\n",
       "    </tr>\n",
       "    <tr>\n",
       "      <th>1435</th>\n",
       "      <td>2018-12-05</td>\n",
       "      <td>False</td>\n",
       "      <td>False</td>\n",
       "    </tr>\n",
       "    <tr>\n",
       "      <th>1436</th>\n",
       "      <td>2018-12-06</td>\n",
       "      <td>False</td>\n",
       "      <td>False</td>\n",
       "    </tr>\n",
       "    <tr>\n",
       "      <th>1437</th>\n",
       "      <td>2018-12-07</td>\n",
       "      <td>False</td>\n",
       "      <td>False</td>\n",
       "    </tr>\n",
       "    <tr>\n",
       "      <th>1438</th>\n",
       "      <td>2018-12-08</td>\n",
       "      <td>True</td>\n",
       "      <td>False</td>\n",
       "    </tr>\n",
       "    <tr>\n",
       "      <th>1439</th>\n",
       "      <td>2018-12-09</td>\n",
       "      <td>True</td>\n",
       "      <td>False</td>\n",
       "    </tr>\n",
       "    <tr>\n",
       "      <th>1440</th>\n",
       "      <td>2018-12-10</td>\n",
       "      <td>False</td>\n",
       "      <td>False</td>\n",
       "    </tr>\n",
       "    <tr>\n",
       "      <th>1441</th>\n",
       "      <td>2018-12-11</td>\n",
       "      <td>False</td>\n",
       "      <td>False</td>\n",
       "    </tr>\n",
       "    <tr>\n",
       "      <th>1442</th>\n",
       "      <td>2018-12-12</td>\n",
       "      <td>False</td>\n",
       "      <td>False</td>\n",
       "    </tr>\n",
       "    <tr>\n",
       "      <th>1443</th>\n",
       "      <td>2018-12-13</td>\n",
       "      <td>False</td>\n",
       "      <td>False</td>\n",
       "    </tr>\n",
       "    <tr>\n",
       "      <th>1444</th>\n",
       "      <td>2018-12-14</td>\n",
       "      <td>False</td>\n",
       "      <td>False</td>\n",
       "    </tr>\n",
       "    <tr>\n",
       "      <th>1445</th>\n",
       "      <td>2018-12-15</td>\n",
       "      <td>True</td>\n",
       "      <td>False</td>\n",
       "    </tr>\n",
       "    <tr>\n",
       "      <th>1446</th>\n",
       "      <td>2018-12-16</td>\n",
       "      <td>True</td>\n",
       "      <td>False</td>\n",
       "    </tr>\n",
       "    <tr>\n",
       "      <th>1447</th>\n",
       "      <td>2018-12-17</td>\n",
       "      <td>False</td>\n",
       "      <td>False</td>\n",
       "    </tr>\n",
       "    <tr>\n",
       "      <th>1448</th>\n",
       "      <td>2018-12-18</td>\n",
       "      <td>False</td>\n",
       "      <td>False</td>\n",
       "    </tr>\n",
       "    <tr>\n",
       "      <th>1449</th>\n",
       "      <td>2018-12-19</td>\n",
       "      <td>False</td>\n",
       "      <td>False</td>\n",
       "    </tr>\n",
       "    <tr>\n",
       "      <th>1450</th>\n",
       "      <td>2018-12-20</td>\n",
       "      <td>False</td>\n",
       "      <td>False</td>\n",
       "    </tr>\n",
       "    <tr>\n",
       "      <th>1451</th>\n",
       "      <td>2018-12-21</td>\n",
       "      <td>False</td>\n",
       "      <td>False</td>\n",
       "    </tr>\n",
       "    <tr>\n",
       "      <th>1452</th>\n",
       "      <td>2018-12-22</td>\n",
       "      <td>True</td>\n",
       "      <td>False</td>\n",
       "    </tr>\n",
       "    <tr>\n",
       "      <th>1453</th>\n",
       "      <td>2018-12-23</td>\n",
       "      <td>True</td>\n",
       "      <td>False</td>\n",
       "    </tr>\n",
       "    <tr>\n",
       "      <th>1454</th>\n",
       "      <td>2018-12-24</td>\n",
       "      <td>False</td>\n",
       "      <td>False</td>\n",
       "    </tr>\n",
       "    <tr>\n",
       "      <th>1455</th>\n",
       "      <td>2018-12-25</td>\n",
       "      <td>False</td>\n",
       "      <td>False</td>\n",
       "    </tr>\n",
       "    <tr>\n",
       "      <th>1456</th>\n",
       "      <td>2018-12-26</td>\n",
       "      <td>False</td>\n",
       "      <td>False</td>\n",
       "    </tr>\n",
       "    <tr>\n",
       "      <th>1457</th>\n",
       "      <td>2018-12-27</td>\n",
       "      <td>False</td>\n",
       "      <td>False</td>\n",
       "    </tr>\n",
       "    <tr>\n",
       "      <th>1458</th>\n",
       "      <td>2018-12-28</td>\n",
       "      <td>False</td>\n",
       "      <td>False</td>\n",
       "    </tr>\n",
       "    <tr>\n",
       "      <th>1459</th>\n",
       "      <td>2018-12-29</td>\n",
       "      <td>False</td>\n",
       "      <td>True</td>\n",
       "    </tr>\n",
       "    <tr>\n",
       "      <th>1460</th>\n",
       "      <td>2018-12-30</td>\n",
       "      <td>True</td>\n",
       "      <td>False</td>\n",
       "    </tr>\n",
       "    <tr>\n",
       "      <th>1461</th>\n",
       "      <td>2018-12-31</td>\n",
       "      <td>True</td>\n",
       "      <td>True</td>\n",
       "    </tr>\n",
       "  </tbody>\n",
       "</table>\n",
       "<p>1461 rows × 3 columns</p>\n",
       "</div>"
      ],
      "text/plain": [
       "           DATE  HOLIDAY  HOLIDAY_SP\n",
       "0    2015-01-01     True        True\n",
       "1    2015-01-02     True        True\n",
       "2    2015-01-03     True        True\n",
       "3    2015-01-04     True        True\n",
       "4    2015-01-05     True        True\n",
       "5    2015-01-06     True        True\n",
       "6    2015-01-07     True        True\n",
       "7    2015-01-08     True        True\n",
       "8    2015-01-09     True        True\n",
       "9    2015-01-10     True       False\n",
       "10   2015-01-11     True       False\n",
       "11   2015-01-12    False       False\n",
       "12   2015-01-13    False        True\n",
       "13   2015-01-14    False       False\n",
       "14   2015-01-15    False       False\n",
       "15   2015-01-16    False       False\n",
       "16   2015-01-17     True       False\n",
       "17   2015-01-18     True       False\n",
       "18   2015-01-19    False       False\n",
       "19   2015-01-20    False       False\n",
       "20   2015-01-21    False       False\n",
       "21   2015-01-22    False       False\n",
       "22   2015-01-23    False       False\n",
       "23   2015-01-24     True       False\n",
       "24   2015-01-25     True       False\n",
       "25   2015-01-26    False       False\n",
       "26   2015-01-27    False       False\n",
       "27   2015-01-28    False       False\n",
       "28   2015-01-29    False       False\n",
       "29   2015-01-30    False       False\n",
       "...         ...      ...         ...\n",
       "1432 2018-12-02     True       False\n",
       "1433 2018-12-03    False       False\n",
       "1434 2018-12-04    False       False\n",
       "1435 2018-12-05    False       False\n",
       "1436 2018-12-06    False       False\n",
       "1437 2018-12-07    False       False\n",
       "1438 2018-12-08     True       False\n",
       "1439 2018-12-09     True       False\n",
       "1440 2018-12-10    False       False\n",
       "1441 2018-12-11    False       False\n",
       "1442 2018-12-12    False       False\n",
       "1443 2018-12-13    False       False\n",
       "1444 2018-12-14    False       False\n",
       "1445 2018-12-15     True       False\n",
       "1446 2018-12-16     True       False\n",
       "1447 2018-12-17    False       False\n",
       "1448 2018-12-18    False       False\n",
       "1449 2018-12-19    False       False\n",
       "1450 2018-12-20    False       False\n",
       "1451 2018-12-21    False       False\n",
       "1452 2018-12-22     True       False\n",
       "1453 2018-12-23     True       False\n",
       "1454 2018-12-24    False       False\n",
       "1455 2018-12-25    False       False\n",
       "1456 2018-12-26    False       False\n",
       "1457 2018-12-27    False       False\n",
       "1458 2018-12-28    False       False\n",
       "1459 2018-12-29    False        True\n",
       "1460 2018-12-30     True       False\n",
       "1461 2018-12-31     True        True\n",
       "\n",
       "[1461 rows x 3 columns]"
      ]
     },
     "execution_count": 28,
     "metadata": {},
     "output_type": "execute_result"
    }
   ],
   "source": [
    "holidays"
   ]
  },
  {
   "cell_type": "code",
   "execution_count": 29,
   "metadata": {},
   "outputs": [],
   "source": [
    "holidays['HOLIDAY_P'] = holidays.HOLIDAY.shift(-7)"
   ]
  },
  {
   "cell_type": "code",
   "execution_count": 30,
   "metadata": {},
   "outputs": [],
   "source": [
    "holidays['HOLIDAY_SP_P'] = holidays.HOLIDAY_SP.shift(-7)"
   ]
  },
  {
   "cell_type": "code",
   "execution_count": 31,
   "metadata": {},
   "outputs": [],
   "source": [
    "holidays = holidays.iloc[:-7, :].copy()"
   ]
  },
  {
   "cell_type": "code",
   "execution_count": 32,
   "metadata": {},
   "outputs": [],
   "source": [
    "holidays[['HOLIDAY_P', 'HOLIDAY_SP_P']] = holidays[['HOLIDAY_P', 'HOLIDAY_SP_P']].astype('bool')"
   ]
  },
  {
   "cell_type": "code",
   "execution_count": 33,
   "metadata": {},
   "outputs": [
    {
     "name": "stdout",
     "output_type": "stream",
     "text": [
      "<class 'pandas.core.frame.DataFrame'>\n",
      "Int64Index: 1454 entries, 0 to 1454\n",
      "Data columns (total 5 columns):\n",
      "DATE            1454 non-null datetime64[ns]\n",
      "HOLIDAY         1454 non-null bool\n",
      "HOLIDAY_SP      1454 non-null bool\n",
      "HOLIDAY_P       1454 non-null bool\n",
      "HOLIDAY_SP_P    1454 non-null bool\n",
      "dtypes: bool(4), datetime64[ns](1)\n",
      "memory usage: 28.4 KB\n"
     ]
    }
   ],
   "source": [
    "holidays.info()"
   ]
  },
  {
   "cell_type": "code",
   "execution_count": 34,
   "metadata": {
    "scrolled": true
   },
   "outputs": [
    {
     "data": {
      "text/html": [
       "<div>\n",
       "<style scoped>\n",
       "    .dataframe tbody tr th:only-of-type {\n",
       "        vertical-align: middle;\n",
       "    }\n",
       "\n",
       "    .dataframe tbody tr th {\n",
       "        vertical-align: top;\n",
       "    }\n",
       "\n",
       "    .dataframe thead th {\n",
       "        text-align: right;\n",
       "    }\n",
       "</style>\n",
       "<table border=\"1\" class=\"dataframe\">\n",
       "  <thead>\n",
       "    <tr style=\"text-align: right;\">\n",
       "      <th></th>\n",
       "      <th>DATE</th>\n",
       "      <th>HOLIDAY</th>\n",
       "      <th>HOLIDAY_SP</th>\n",
       "      <th>HOLIDAY_P</th>\n",
       "      <th>HOLIDAY_SP_P</th>\n",
       "    </tr>\n",
       "  </thead>\n",
       "  <tbody>\n",
       "    <tr>\n",
       "      <th>0</th>\n",
       "      <td>2015-01-01</td>\n",
       "      <td>True</td>\n",
       "      <td>True</td>\n",
       "      <td>True</td>\n",
       "      <td>True</td>\n",
       "    </tr>\n",
       "    <tr>\n",
       "      <th>1</th>\n",
       "      <td>2015-01-02</td>\n",
       "      <td>True</td>\n",
       "      <td>True</td>\n",
       "      <td>True</td>\n",
       "      <td>True</td>\n",
       "    </tr>\n",
       "    <tr>\n",
       "      <th>2</th>\n",
       "      <td>2015-01-03</td>\n",
       "      <td>True</td>\n",
       "      <td>True</td>\n",
       "      <td>True</td>\n",
       "      <td>False</td>\n",
       "    </tr>\n",
       "    <tr>\n",
       "      <th>3</th>\n",
       "      <td>2015-01-04</td>\n",
       "      <td>True</td>\n",
       "      <td>True</td>\n",
       "      <td>True</td>\n",
       "      <td>False</td>\n",
       "    </tr>\n",
       "    <tr>\n",
       "      <th>4</th>\n",
       "      <td>2015-01-05</td>\n",
       "      <td>True</td>\n",
       "      <td>True</td>\n",
       "      <td>False</td>\n",
       "      <td>False</td>\n",
       "    </tr>\n",
       "    <tr>\n",
       "      <th>5</th>\n",
       "      <td>2015-01-06</td>\n",
       "      <td>True</td>\n",
       "      <td>True</td>\n",
       "      <td>False</td>\n",
       "      <td>True</td>\n",
       "    </tr>\n",
       "    <tr>\n",
       "      <th>6</th>\n",
       "      <td>2015-01-07</td>\n",
       "      <td>True</td>\n",
       "      <td>True</td>\n",
       "      <td>False</td>\n",
       "      <td>False</td>\n",
       "    </tr>\n",
       "    <tr>\n",
       "      <th>7</th>\n",
       "      <td>2015-01-08</td>\n",
       "      <td>True</td>\n",
       "      <td>True</td>\n",
       "      <td>False</td>\n",
       "      <td>False</td>\n",
       "    </tr>\n",
       "    <tr>\n",
       "      <th>8</th>\n",
       "      <td>2015-01-09</td>\n",
       "      <td>True</td>\n",
       "      <td>True</td>\n",
       "      <td>False</td>\n",
       "      <td>False</td>\n",
       "    </tr>\n",
       "    <tr>\n",
       "      <th>9</th>\n",
       "      <td>2015-01-10</td>\n",
       "      <td>True</td>\n",
       "      <td>False</td>\n",
       "      <td>True</td>\n",
       "      <td>False</td>\n",
       "    </tr>\n",
       "    <tr>\n",
       "      <th>10</th>\n",
       "      <td>2015-01-11</td>\n",
       "      <td>True</td>\n",
       "      <td>False</td>\n",
       "      <td>True</td>\n",
       "      <td>False</td>\n",
       "    </tr>\n",
       "    <tr>\n",
       "      <th>11</th>\n",
       "      <td>2015-01-12</td>\n",
       "      <td>False</td>\n",
       "      <td>False</td>\n",
       "      <td>False</td>\n",
       "      <td>False</td>\n",
       "    </tr>\n",
       "    <tr>\n",
       "      <th>12</th>\n",
       "      <td>2015-01-13</td>\n",
       "      <td>False</td>\n",
       "      <td>True</td>\n",
       "      <td>False</td>\n",
       "      <td>False</td>\n",
       "    </tr>\n",
       "    <tr>\n",
       "      <th>13</th>\n",
       "      <td>2015-01-14</td>\n",
       "      <td>False</td>\n",
       "      <td>False</td>\n",
       "      <td>False</td>\n",
       "      <td>False</td>\n",
       "    </tr>\n",
       "    <tr>\n",
       "      <th>14</th>\n",
       "      <td>2015-01-15</td>\n",
       "      <td>False</td>\n",
       "      <td>False</td>\n",
       "      <td>False</td>\n",
       "      <td>False</td>\n",
       "    </tr>\n",
       "    <tr>\n",
       "      <th>15</th>\n",
       "      <td>2015-01-16</td>\n",
       "      <td>False</td>\n",
       "      <td>False</td>\n",
       "      <td>False</td>\n",
       "      <td>False</td>\n",
       "    </tr>\n",
       "    <tr>\n",
       "      <th>16</th>\n",
       "      <td>2015-01-17</td>\n",
       "      <td>True</td>\n",
       "      <td>False</td>\n",
       "      <td>True</td>\n",
       "      <td>False</td>\n",
       "    </tr>\n",
       "    <tr>\n",
       "      <th>17</th>\n",
       "      <td>2015-01-18</td>\n",
       "      <td>True</td>\n",
       "      <td>False</td>\n",
       "      <td>True</td>\n",
       "      <td>False</td>\n",
       "    </tr>\n",
       "    <tr>\n",
       "      <th>18</th>\n",
       "      <td>2015-01-19</td>\n",
       "      <td>False</td>\n",
       "      <td>False</td>\n",
       "      <td>False</td>\n",
       "      <td>False</td>\n",
       "    </tr>\n",
       "    <tr>\n",
       "      <th>19</th>\n",
       "      <td>2015-01-20</td>\n",
       "      <td>False</td>\n",
       "      <td>False</td>\n",
       "      <td>False</td>\n",
       "      <td>False</td>\n",
       "    </tr>\n",
       "    <tr>\n",
       "      <th>20</th>\n",
       "      <td>2015-01-21</td>\n",
       "      <td>False</td>\n",
       "      <td>False</td>\n",
       "      <td>False</td>\n",
       "      <td>False</td>\n",
       "    </tr>\n",
       "    <tr>\n",
       "      <th>21</th>\n",
       "      <td>2015-01-22</td>\n",
       "      <td>False</td>\n",
       "      <td>False</td>\n",
       "      <td>False</td>\n",
       "      <td>False</td>\n",
       "    </tr>\n",
       "    <tr>\n",
       "      <th>22</th>\n",
       "      <td>2015-01-23</td>\n",
       "      <td>False</td>\n",
       "      <td>False</td>\n",
       "      <td>False</td>\n",
       "      <td>False</td>\n",
       "    </tr>\n",
       "    <tr>\n",
       "      <th>23</th>\n",
       "      <td>2015-01-24</td>\n",
       "      <td>True</td>\n",
       "      <td>False</td>\n",
       "      <td>True</td>\n",
       "      <td>False</td>\n",
       "    </tr>\n",
       "    <tr>\n",
       "      <th>24</th>\n",
       "      <td>2015-01-25</td>\n",
       "      <td>True</td>\n",
       "      <td>False</td>\n",
       "      <td>True</td>\n",
       "      <td>False</td>\n",
       "    </tr>\n",
       "    <tr>\n",
       "      <th>25</th>\n",
       "      <td>2015-01-26</td>\n",
       "      <td>False</td>\n",
       "      <td>False</td>\n",
       "      <td>False</td>\n",
       "      <td>False</td>\n",
       "    </tr>\n",
       "    <tr>\n",
       "      <th>26</th>\n",
       "      <td>2015-01-27</td>\n",
       "      <td>False</td>\n",
       "      <td>False</td>\n",
       "      <td>False</td>\n",
       "      <td>False</td>\n",
       "    </tr>\n",
       "    <tr>\n",
       "      <th>27</th>\n",
       "      <td>2015-01-28</td>\n",
       "      <td>False</td>\n",
       "      <td>False</td>\n",
       "      <td>False</td>\n",
       "      <td>False</td>\n",
       "    </tr>\n",
       "    <tr>\n",
       "      <th>28</th>\n",
       "      <td>2015-01-29</td>\n",
       "      <td>False</td>\n",
       "      <td>False</td>\n",
       "      <td>False</td>\n",
       "      <td>False</td>\n",
       "    </tr>\n",
       "    <tr>\n",
       "      <th>29</th>\n",
       "      <td>2015-01-30</td>\n",
       "      <td>False</td>\n",
       "      <td>False</td>\n",
       "      <td>False</td>\n",
       "      <td>False</td>\n",
       "    </tr>\n",
       "    <tr>\n",
       "      <th>...</th>\n",
       "      <td>...</td>\n",
       "      <td>...</td>\n",
       "      <td>...</td>\n",
       "      <td>...</td>\n",
       "      <td>...</td>\n",
       "    </tr>\n",
       "    <tr>\n",
       "      <th>1425</th>\n",
       "      <td>2018-11-25</td>\n",
       "      <td>True</td>\n",
       "      <td>False</td>\n",
       "      <td>True</td>\n",
       "      <td>False</td>\n",
       "    </tr>\n",
       "    <tr>\n",
       "      <th>1426</th>\n",
       "      <td>2018-11-26</td>\n",
       "      <td>False</td>\n",
       "      <td>False</td>\n",
       "      <td>False</td>\n",
       "      <td>False</td>\n",
       "    </tr>\n",
       "    <tr>\n",
       "      <th>1427</th>\n",
       "      <td>2018-11-27</td>\n",
       "      <td>False</td>\n",
       "      <td>False</td>\n",
       "      <td>False</td>\n",
       "      <td>False</td>\n",
       "    </tr>\n",
       "    <tr>\n",
       "      <th>1428</th>\n",
       "      <td>2018-11-28</td>\n",
       "      <td>False</td>\n",
       "      <td>False</td>\n",
       "      <td>False</td>\n",
       "      <td>False</td>\n",
       "    </tr>\n",
       "    <tr>\n",
       "      <th>1429</th>\n",
       "      <td>2018-11-29</td>\n",
       "      <td>False</td>\n",
       "      <td>False</td>\n",
       "      <td>False</td>\n",
       "      <td>False</td>\n",
       "    </tr>\n",
       "    <tr>\n",
       "      <th>1430</th>\n",
       "      <td>2018-11-30</td>\n",
       "      <td>False</td>\n",
       "      <td>False</td>\n",
       "      <td>False</td>\n",
       "      <td>False</td>\n",
       "    </tr>\n",
       "    <tr>\n",
       "      <th>1431</th>\n",
       "      <td>2018-12-01</td>\n",
       "      <td>True</td>\n",
       "      <td>False</td>\n",
       "      <td>True</td>\n",
       "      <td>False</td>\n",
       "    </tr>\n",
       "    <tr>\n",
       "      <th>1432</th>\n",
       "      <td>2018-12-02</td>\n",
       "      <td>True</td>\n",
       "      <td>False</td>\n",
       "      <td>True</td>\n",
       "      <td>False</td>\n",
       "    </tr>\n",
       "    <tr>\n",
       "      <th>1433</th>\n",
       "      <td>2018-12-03</td>\n",
       "      <td>False</td>\n",
       "      <td>False</td>\n",
       "      <td>False</td>\n",
       "      <td>False</td>\n",
       "    </tr>\n",
       "    <tr>\n",
       "      <th>1434</th>\n",
       "      <td>2018-12-04</td>\n",
       "      <td>False</td>\n",
       "      <td>False</td>\n",
       "      <td>False</td>\n",
       "      <td>False</td>\n",
       "    </tr>\n",
       "    <tr>\n",
       "      <th>1435</th>\n",
       "      <td>2018-12-05</td>\n",
       "      <td>False</td>\n",
       "      <td>False</td>\n",
       "      <td>False</td>\n",
       "      <td>False</td>\n",
       "    </tr>\n",
       "    <tr>\n",
       "      <th>1436</th>\n",
       "      <td>2018-12-06</td>\n",
       "      <td>False</td>\n",
       "      <td>False</td>\n",
       "      <td>False</td>\n",
       "      <td>False</td>\n",
       "    </tr>\n",
       "    <tr>\n",
       "      <th>1437</th>\n",
       "      <td>2018-12-07</td>\n",
       "      <td>False</td>\n",
       "      <td>False</td>\n",
       "      <td>False</td>\n",
       "      <td>False</td>\n",
       "    </tr>\n",
       "    <tr>\n",
       "      <th>1438</th>\n",
       "      <td>2018-12-08</td>\n",
       "      <td>True</td>\n",
       "      <td>False</td>\n",
       "      <td>True</td>\n",
       "      <td>False</td>\n",
       "    </tr>\n",
       "    <tr>\n",
       "      <th>1439</th>\n",
       "      <td>2018-12-09</td>\n",
       "      <td>True</td>\n",
       "      <td>False</td>\n",
       "      <td>True</td>\n",
       "      <td>False</td>\n",
       "    </tr>\n",
       "    <tr>\n",
       "      <th>1440</th>\n",
       "      <td>2018-12-10</td>\n",
       "      <td>False</td>\n",
       "      <td>False</td>\n",
       "      <td>False</td>\n",
       "      <td>False</td>\n",
       "    </tr>\n",
       "    <tr>\n",
       "      <th>1441</th>\n",
       "      <td>2018-12-11</td>\n",
       "      <td>False</td>\n",
       "      <td>False</td>\n",
       "      <td>False</td>\n",
       "      <td>False</td>\n",
       "    </tr>\n",
       "    <tr>\n",
       "      <th>1442</th>\n",
       "      <td>2018-12-12</td>\n",
       "      <td>False</td>\n",
       "      <td>False</td>\n",
       "      <td>False</td>\n",
       "      <td>False</td>\n",
       "    </tr>\n",
       "    <tr>\n",
       "      <th>1443</th>\n",
       "      <td>2018-12-13</td>\n",
       "      <td>False</td>\n",
       "      <td>False</td>\n",
       "      <td>False</td>\n",
       "      <td>False</td>\n",
       "    </tr>\n",
       "    <tr>\n",
       "      <th>1444</th>\n",
       "      <td>2018-12-14</td>\n",
       "      <td>False</td>\n",
       "      <td>False</td>\n",
       "      <td>False</td>\n",
       "      <td>False</td>\n",
       "    </tr>\n",
       "    <tr>\n",
       "      <th>1445</th>\n",
       "      <td>2018-12-15</td>\n",
       "      <td>True</td>\n",
       "      <td>False</td>\n",
       "      <td>True</td>\n",
       "      <td>False</td>\n",
       "    </tr>\n",
       "    <tr>\n",
       "      <th>1446</th>\n",
       "      <td>2018-12-16</td>\n",
       "      <td>True</td>\n",
       "      <td>False</td>\n",
       "      <td>True</td>\n",
       "      <td>False</td>\n",
       "    </tr>\n",
       "    <tr>\n",
       "      <th>1447</th>\n",
       "      <td>2018-12-17</td>\n",
       "      <td>False</td>\n",
       "      <td>False</td>\n",
       "      <td>False</td>\n",
       "      <td>False</td>\n",
       "    </tr>\n",
       "    <tr>\n",
       "      <th>1448</th>\n",
       "      <td>2018-12-18</td>\n",
       "      <td>False</td>\n",
       "      <td>False</td>\n",
       "      <td>False</td>\n",
       "      <td>False</td>\n",
       "    </tr>\n",
       "    <tr>\n",
       "      <th>1449</th>\n",
       "      <td>2018-12-19</td>\n",
       "      <td>False</td>\n",
       "      <td>False</td>\n",
       "      <td>False</td>\n",
       "      <td>False</td>\n",
       "    </tr>\n",
       "    <tr>\n",
       "      <th>1450</th>\n",
       "      <td>2018-12-20</td>\n",
       "      <td>False</td>\n",
       "      <td>False</td>\n",
       "      <td>False</td>\n",
       "      <td>False</td>\n",
       "    </tr>\n",
       "    <tr>\n",
       "      <th>1451</th>\n",
       "      <td>2018-12-21</td>\n",
       "      <td>False</td>\n",
       "      <td>False</td>\n",
       "      <td>False</td>\n",
       "      <td>False</td>\n",
       "    </tr>\n",
       "    <tr>\n",
       "      <th>1452</th>\n",
       "      <td>2018-12-22</td>\n",
       "      <td>True</td>\n",
       "      <td>False</td>\n",
       "      <td>False</td>\n",
       "      <td>True</td>\n",
       "    </tr>\n",
       "    <tr>\n",
       "      <th>1453</th>\n",
       "      <td>2018-12-23</td>\n",
       "      <td>True</td>\n",
       "      <td>False</td>\n",
       "      <td>True</td>\n",
       "      <td>False</td>\n",
       "    </tr>\n",
       "    <tr>\n",
       "      <th>1454</th>\n",
       "      <td>2018-12-24</td>\n",
       "      <td>False</td>\n",
       "      <td>False</td>\n",
       "      <td>True</td>\n",
       "      <td>True</td>\n",
       "    </tr>\n",
       "  </tbody>\n",
       "</table>\n",
       "<p>1454 rows × 5 columns</p>\n",
       "</div>"
      ],
      "text/plain": [
       "           DATE  HOLIDAY  HOLIDAY_SP  HOLIDAY_P  HOLIDAY_SP_P\n",
       "0    2015-01-01     True        True       True          True\n",
       "1    2015-01-02     True        True       True          True\n",
       "2    2015-01-03     True        True       True         False\n",
       "3    2015-01-04     True        True       True         False\n",
       "4    2015-01-05     True        True      False         False\n",
       "5    2015-01-06     True        True      False          True\n",
       "6    2015-01-07     True        True      False         False\n",
       "7    2015-01-08     True        True      False         False\n",
       "8    2015-01-09     True        True      False         False\n",
       "9    2015-01-10     True       False       True         False\n",
       "10   2015-01-11     True       False       True         False\n",
       "11   2015-01-12    False       False      False         False\n",
       "12   2015-01-13    False        True      False         False\n",
       "13   2015-01-14    False       False      False         False\n",
       "14   2015-01-15    False       False      False         False\n",
       "15   2015-01-16    False       False      False         False\n",
       "16   2015-01-17     True       False       True         False\n",
       "17   2015-01-18     True       False       True         False\n",
       "18   2015-01-19    False       False      False         False\n",
       "19   2015-01-20    False       False      False         False\n",
       "20   2015-01-21    False       False      False         False\n",
       "21   2015-01-22    False       False      False         False\n",
       "22   2015-01-23    False       False      False         False\n",
       "23   2015-01-24     True       False       True         False\n",
       "24   2015-01-25     True       False       True         False\n",
       "25   2015-01-26    False       False      False         False\n",
       "26   2015-01-27    False       False      False         False\n",
       "27   2015-01-28    False       False      False         False\n",
       "28   2015-01-29    False       False      False         False\n",
       "29   2015-01-30    False       False      False         False\n",
       "...         ...      ...         ...        ...           ...\n",
       "1425 2018-11-25     True       False       True         False\n",
       "1426 2018-11-26    False       False      False         False\n",
       "1427 2018-11-27    False       False      False         False\n",
       "1428 2018-11-28    False       False      False         False\n",
       "1429 2018-11-29    False       False      False         False\n",
       "1430 2018-11-30    False       False      False         False\n",
       "1431 2018-12-01     True       False       True         False\n",
       "1432 2018-12-02     True       False       True         False\n",
       "1433 2018-12-03    False       False      False         False\n",
       "1434 2018-12-04    False       False      False         False\n",
       "1435 2018-12-05    False       False      False         False\n",
       "1436 2018-12-06    False       False      False         False\n",
       "1437 2018-12-07    False       False      False         False\n",
       "1438 2018-12-08     True       False       True         False\n",
       "1439 2018-12-09     True       False       True         False\n",
       "1440 2018-12-10    False       False      False         False\n",
       "1441 2018-12-11    False       False      False         False\n",
       "1442 2018-12-12    False       False      False         False\n",
       "1443 2018-12-13    False       False      False         False\n",
       "1444 2018-12-14    False       False      False         False\n",
       "1445 2018-12-15     True       False       True         False\n",
       "1446 2018-12-16     True       False       True         False\n",
       "1447 2018-12-17    False       False      False         False\n",
       "1448 2018-12-18    False       False      False         False\n",
       "1449 2018-12-19    False       False      False         False\n",
       "1450 2018-12-20    False       False      False         False\n",
       "1451 2018-12-21    False       False      False         False\n",
       "1452 2018-12-22     True       False      False          True\n",
       "1453 2018-12-23     True       False       True         False\n",
       "1454 2018-12-24    False       False       True          True\n",
       "\n",
       "[1454 rows x 5 columns]"
      ]
     },
     "execution_count": 34,
     "metadata": {},
     "output_type": "execute_result"
    }
   ],
   "source": [
    "holidays"
   ]
  },
  {
   "cell_type": "code",
   "execution_count": 35,
   "metadata": {
    "scrolled": true
   },
   "outputs": [],
   "source": [
    "holidays.to_parquet('/main/data/MVideo_2/hol_ft_5.parquet')"
   ]
  }
 ],
 "metadata": {
  "kernelspec": {
   "display_name": "Python 3",
   "language": "python",
   "name": "python3"
  },
  "language_info": {
   "codemirror_mode": {
    "name": "ipython",
    "version": 3
   },
   "file_extension": ".py",
   "mimetype": "text/x-python",
   "name": "python",
   "nbconvert_exporter": "python",
   "pygments_lexer": "ipython3",
   "version": "3.6.6"
  }
 },
 "nbformat": 4,
 "nbformat_minor": 2
}
