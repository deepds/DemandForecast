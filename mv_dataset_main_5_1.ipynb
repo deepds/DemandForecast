{
 "cells": [
  {
   "cell_type": "code",
   "execution_count": 1,
   "metadata": {},
   "outputs": [],
   "source": [
    "import numpy as np\n",
    "import pandas as pd\n",
    "import xgboost as xgb\n",
    "import psutil"
   ]
  },
  {
   "cell_type": "code",
   "execution_count": 2,
   "metadata": {},
   "outputs": [],
   "source": [
    "from pandas.tseries.offsets import Day, Week"
   ]
  },
  {
   "cell_type": "code",
   "execution_count": 3,
   "metadata": {},
   "outputs": [
    {
     "data": {
      "text/plain": [
       "146"
      ]
     },
     "execution_count": 3,
     "metadata": {},
     "output_type": "execute_result"
    }
   ],
   "source": [
    "psutil.virtual_memory().available >> 30"
   ]
  },
  {
   "cell_type": "code",
   "execution_count": 4,
   "metadata": {},
   "outputs": [],
   "source": [
    "data1 = pd.read_parquet('/main/data/MVideo_2/temp_5_1.parquet')"
   ]
  },
  {
   "cell_type": "code",
   "execution_count": 5,
   "metadata": {},
   "outputs": [],
   "source": [
    "data = data1[['DATE', 'PRODUCT_ID', 'STORE_ID', 'sales.SUM(trans.UNITS_SOLD)_W0', 'sales.SUM(trans.REVENUE_INCL_TAX)_W0',\n",
    "              'REGULAR_SALES_PRICE_INCL_TAX']].copy()"
   ]
  },
  {
   "cell_type": "code",
   "execution_count": 6,
   "metadata": {},
   "outputs": [],
   "source": [
    "del data1"
   ]
  },
  {
   "cell_type": "code",
   "execution_count": 7,
   "metadata": {},
   "outputs": [
    {
     "data": {
      "text/plain": [
       "146"
      ]
     },
     "execution_count": 7,
     "metadata": {},
     "output_type": "execute_result"
    }
   ],
   "source": [
    "psutil.virtual_memory().available >> 30"
   ]
  },
  {
   "cell_type": "code",
   "execution_count": 10,
   "metadata": {},
   "outputs": [],
   "source": [
    "data['sales.SUM(trans.UNITS_SOLD)_W0'] = np.clip(data['sales.SUM(trans.UNITS_SOLD)_W0'], 0, None)"
   ]
  },
  {
   "cell_type": "code",
   "execution_count": 12,
   "metadata": {},
   "outputs": [],
   "source": [
    "data['sales.SUM(trans.REVENUE_INCL_TAX)_W0'] = np.clip(data['sales.SUM(trans.REVENUE_INCL_TAX)_W0'], 0, None)"
   ]
  },
  {
   "cell_type": "code",
   "execution_count": 13,
   "metadata": {},
   "outputs": [],
   "source": [
    "data = data.sort_values(['STORE_ID', 'PRODUCT_ID', 'DATE']).reset_index(drop = True)"
   ]
  },
  {
   "cell_type": "code",
   "execution_count": 14,
   "metadata": {},
   "outputs": [],
   "source": [
    "data['A_PRICE'] = data['sales.SUM(trans.REVENUE_INCL_TAX)_W0'] / data['sales.SUM(trans.UNITS_SOLD)_W0']"
   ]
  },
  {
   "cell_type": "code",
   "execution_count": 15,
   "metadata": {},
   "outputs": [],
   "source": [
    "data.A_PRICE = data.groupby(['PRODUCT_ID', 'STORE_ID']).A_PRICE.fillna(method = 'ffill')"
   ]
  },
  {
   "cell_type": "code",
   "execution_count": 18,
   "metadata": {},
   "outputs": [],
   "source": [
    "tdata = data[data.DATE < '2018-03-18'].copy()"
   ]
  },
  {
   "cell_type": "code",
   "execution_count": 19,
   "metadata": {},
   "outputs": [
    {
     "data": {
      "text/plain": [
       "0.08832982345730221"
      ]
     },
     "execution_count": 19,
     "metadata": {},
     "output_type": "execute_result"
    }
   ],
   "source": [
    "tdata.A_PRICE.isnull().sum() / tdata.shape[0]"
   ]
  },
  {
   "cell_type": "code",
   "execution_count": 20,
   "metadata": {},
   "outputs": [],
   "source": [
    "tdata.A_PRICE = data.groupby(['PRODUCT_ID', 'STORE_ID']).A_PRICE.fillna(method = 'bfill')"
   ]
  },
  {
   "cell_type": "code",
   "execution_count": 21,
   "metadata": {},
   "outputs": [
    {
     "data": {
      "text/plain": [
       "0.027034599272559613"
      ]
     },
     "execution_count": 21,
     "metadata": {},
     "output_type": "execute_result"
    }
   ],
   "source": [
    "tdata.A_PRICE.isnull().sum() / tdata.shape[0]"
   ]
  },
  {
   "cell_type": "code",
   "execution_count": 22,
   "metadata": {},
   "outputs": [],
   "source": [
    "tdata.rename(columns = {'A_PRICE': 'PRICE'}, inplace = True)"
   ]
  },
  {
   "cell_type": "code",
   "execution_count": 23,
   "metadata": {},
   "outputs": [],
   "source": [
    "tdata.drop(columns = ['sales.SUM(trans.UNITS_SOLD)_W0', 'sales.SUM(trans.REVENUE_INCL_TAX)_W0', 'REGULAR_SALES_PRICE_INCL_TAX'],\n",
    "           inplace = True)"
   ]
  },
  {
   "cell_type": "code",
   "execution_count": 24,
   "metadata": {},
   "outputs": [],
   "source": [
    "data = data.merge(tdata, how = 'left').sort_values(['STORE_ID', 'PRODUCT_ID', 'DATE'])"
   ]
  },
  {
   "cell_type": "code",
   "execution_count": 25,
   "metadata": {},
   "outputs": [],
   "source": [
    "data.PRICE.fillna(data.A_PRICE, inplace = True)"
   ]
  },
  {
   "cell_type": "code",
   "execution_count": 26,
   "metadata": {},
   "outputs": [],
   "source": [
    "data.PRICE.fillna(data.REGULAR_SALES_PRICE_INCL_TAX, inplace = True)"
   ]
  },
  {
   "cell_type": "code",
   "execution_count": 27,
   "metadata": {},
   "outputs": [],
   "source": [
    "data.drop(columns = ['REGULAR_SALES_PRICE_INCL_TAX', 'A_PRICE'], inplace = True)"
   ]
  },
  {
   "cell_type": "code",
   "execution_count": 28,
   "metadata": {},
   "outputs": [],
   "source": [
    "#data.to_parquet('/main/data/MVideo_2/temp_5_2.parquet')"
   ]
  },
  {
   "cell_type": "code",
   "execution_count": 29,
   "metadata": {},
   "outputs": [],
   "source": [
    "tdata = data.groupby(['PRODUCT_ID', 'STORE_ID'])[['DATE']].min().reset_index()"
   ]
  },
  {
   "cell_type": "code",
   "execution_count": 30,
   "metadata": {},
   "outputs": [],
   "source": [
    "tdata['START'] = 1"
   ]
  },
  {
   "cell_type": "code",
   "execution_count": 31,
   "metadata": {},
   "outputs": [],
   "source": [
    "data = data.merge(tdata, how = 'left').sort_values(['STORE_ID', 'PRODUCT_ID', 'DATE'])"
   ]
  },
  {
   "cell_type": "code",
   "execution_count": 32,
   "metadata": {},
   "outputs": [],
   "source": [
    "data['SALES_BIN'] = data['sales.SUM(trans.UNITS_SOLD)_W0'] > 0"
   ]
  },
  {
   "cell_type": "code",
   "execution_count": 33,
   "metadata": {},
   "outputs": [],
   "source": [
    "start = data.START.values"
   ]
  },
  {
   "cell_type": "code",
   "execution_count": 34,
   "metadata": {},
   "outputs": [],
   "source": [
    "sls = data.SALES_BIN.astype('int').values"
   ]
  },
  {
   "cell_type": "code",
   "execution_count": 35,
   "metadata": {},
   "outputs": [
    {
     "data": {
      "text/plain": [
       "True"
      ]
     },
     "execution_count": 35,
     "metadata": {},
     "output_type": "execute_result"
    }
   ],
   "source": [
    "sls[0] == 0"
   ]
  },
  {
   "cell_type": "code",
   "execution_count": 36,
   "metadata": {},
   "outputs": [],
   "source": [
    "wss = []"
   ]
  },
  {
   "cell_type": "code",
   "execution_count": 37,
   "metadata": {},
   "outputs": [],
   "source": [
    "for i in range(data.shape[0]):\n",
    "    if sls[i] == 1:\n",
    "        t = 0\n",
    "    elif start[i] != 1:\n",
    "        t = wss[i - 1] + 1\n",
    "    else:\n",
    "        t = 1\n",
    "    wss.append(t)"
   ]
  },
  {
   "cell_type": "code",
   "execution_count": 38,
   "metadata": {},
   "outputs": [],
   "source": [
    "data['WEEK_SINCE_SALE'] = wss"
   ]
  },
  {
   "cell_type": "code",
   "execution_count": 39,
   "metadata": {},
   "outputs": [],
   "source": [
    "sw = []"
   ]
  },
  {
   "cell_type": "code",
   "execution_count": 40,
   "metadata": {},
   "outputs": [],
   "source": [
    "for i in range(data.shape[0]):\n",
    "    if start[i] == 1:\n",
    "        t = sls[i]\n",
    "    else:\n",
    "        t = sw[i - 1] + sls[i]\n",
    "    sw.append(t)"
   ]
  },
  {
   "cell_type": "code",
   "execution_count": 41,
   "metadata": {},
   "outputs": [],
   "source": [
    "sr = []"
   ]
  },
  {
   "cell_type": "code",
   "execution_count": 42,
   "metadata": {},
   "outputs": [],
   "source": [
    "for i in range(data.shape[0]):\n",
    "    if start[i] == 1:\n",
    "        t = 1\n",
    "    else:\n",
    "        t = sr[i - 1] + 1\n",
    "    sr.append(t)"
   ]
  },
  {
   "cell_type": "code",
   "execution_count": 43,
   "metadata": {},
   "outputs": [],
   "source": [
    "data['SALES_WEEKS'] = sw"
   ]
  },
  {
   "cell_type": "code",
   "execution_count": 44,
   "metadata": {},
   "outputs": [],
   "source": [
    "data['SALES_RANGE'] = sr"
   ]
  },
  {
   "cell_type": "code",
   "execution_count": 45,
   "metadata": {},
   "outputs": [],
   "source": [
    "data['SALE_FREQUENCY'] = data.SALES_WEEKS / data.SALES_RANGE"
   ]
  },
  {
   "cell_type": "code",
   "execution_count": 46,
   "metadata": {},
   "outputs": [],
   "source": [
    "qsls = data['sales.SUM(trans.UNITS_SOLD)_W0'].values"
   ]
  },
  {
   "cell_type": "code",
   "execution_count": 47,
   "metadata": {},
   "outputs": [],
   "source": [
    "ss = []"
   ]
  },
  {
   "cell_type": "code",
   "execution_count": 48,
   "metadata": {},
   "outputs": [],
   "source": [
    "for i in range(data.shape[0]):\n",
    "    if start[i] == 1:\n",
    "        t = qsls[i]\n",
    "    else:\n",
    "        t = ss[i - 1] + qsls[i]\n",
    "    ss.append(t)"
   ]
  },
  {
   "cell_type": "code",
   "execution_count": 49,
   "metadata": {},
   "outputs": [],
   "source": [
    "data['SALES_SUM'] = ss"
   ]
  },
  {
   "cell_type": "code",
   "execution_count": 50,
   "metadata": {},
   "outputs": [],
   "source": [
    "data['SOLD_AVERAGE'] = data.SALES_SUM / data.SALES_RANGE"
   ]
  },
  {
   "cell_type": "code",
   "execution_count": 51,
   "metadata": {},
   "outputs": [],
   "source": [
    "#data.to_parquet('/main/data/MVideo_2/temp_5_2.parquet')"
   ]
  },
  {
   "cell_type": "code",
   "execution_count": 52,
   "metadata": {},
   "outputs": [],
   "source": [
    "#data = pd.read_parquet('/main/data/MVideo_2/temp_5_2.parquet')"
   ]
  },
  {
   "cell_type": "code",
   "execution_count": 53,
   "metadata": {},
   "outputs": [
    {
     "data": {
      "text/plain": [
       "2831698"
      ]
     },
     "execution_count": 53,
     "metadata": {},
     "output_type": "execute_result"
    }
   ],
   "source": [
    "data.shape[0]"
   ]
  },
  {
   "cell_type": "code",
   "execution_count": 54,
   "metadata": {},
   "outputs": [],
   "source": [
    "tdata = data[['PRODUCT_ID', 'DATE']].drop_duplicates().sort_values(['PRODUCT_ID', 'DATE']).reset_index(drop = True)"
   ]
  },
  {
   "cell_type": "code",
   "execution_count": 55,
   "metadata": {},
   "outputs": [],
   "source": [
    "tdata['NEWNESS'] = tdata.groupby('PRODUCT_ID').cumcount()"
   ]
  },
  {
   "cell_type": "code",
   "execution_count": 56,
   "metadata": {},
   "outputs": [],
   "source": [
    "data = data.merge(tdata, how = 'left').sort_values(['STORE_ID', 'PRODUCT_ID', 'DATE'])"
   ]
  },
  {
   "cell_type": "code",
   "execution_count": 57,
   "metadata": {},
   "outputs": [],
   "source": [
    "esls1 = []\n",
    "ewss1 = []\n",
    "sba1 = []"
   ]
  },
  {
   "cell_type": "code",
   "execution_count": 58,
   "metadata": {},
   "outputs": [],
   "source": [
    "a = 0.5"
   ]
  },
  {
   "cell_type": "code",
   "execution_count": 59,
   "metadata": {},
   "outputs": [],
   "source": [
    "for i in range(data.shape[0]):\n",
    "    if start[i] == 1:\n",
    "        if qsls[i] == 0:\n",
    "            z = 1\n",
    "            v = 2\n",
    "            y = 0.5\n",
    "        else:\n",
    "            z = qsls[i]\n",
    "            v = 1\n",
    "            y = qsls[i]\n",
    "    else:\n",
    "        if qsls[i] == 0:\n",
    "            z = esls1[i - 1]\n",
    "            v = ewss1[i - 1]\n",
    "            y = sba1[i - 1]\n",
    "        else:\n",
    "            z = a * qsls[i] + (1 - a) * esls1[i - 1]\n",
    "            v = a * (wss[i] + 1) + (1 - a) * ewss1[i - 1]\n",
    "            y = z / v\n",
    "    esls1.append(z)\n",
    "    ewss1.append(v)\n",
    "    sba1.append(y)"
   ]
  },
  {
   "cell_type": "code",
   "execution_count": 60,
   "metadata": {},
   "outputs": [],
   "source": [
    "data['DEMAND_ESTIMATE_50'] = esls1"
   ]
  },
  {
   "cell_type": "code",
   "execution_count": 61,
   "metadata": {},
   "outputs": [],
   "source": [
    "data['INTERVAL_ESTIMATE_50'] = ewss1"
   ]
  },
  {
   "cell_type": "code",
   "execution_count": 62,
   "metadata": {},
   "outputs": [],
   "source": [
    "data['SBA_50'] = sba1"
   ]
  },
  {
   "cell_type": "code",
   "execution_count": 63,
   "metadata": {},
   "outputs": [],
   "source": [
    "data.SBA_50 *= (1 - a / 2)"
   ]
  },
  {
   "cell_type": "code",
   "execution_count": 64,
   "metadata": {},
   "outputs": [],
   "source": [
    "esls2 = []\n",
    "ewss2 = []\n",
    "sba2 = []"
   ]
  },
  {
   "cell_type": "code",
   "execution_count": 65,
   "metadata": {},
   "outputs": [],
   "source": [
    "a = 0.95"
   ]
  },
  {
   "cell_type": "code",
   "execution_count": 66,
   "metadata": {},
   "outputs": [],
   "source": [
    "for i in range(data.shape[0]):\n",
    "    if start[i] == 1:\n",
    "        if qsls[i] == 0:\n",
    "            z = 1\n",
    "            v = 2\n",
    "            y = 0.5\n",
    "        else:\n",
    "            z = qsls[i]\n",
    "            v = 1\n",
    "            y = qsls[i]\n",
    "    else:\n",
    "        if qsls[i] == 0:\n",
    "            z = esls2[i - 1]\n",
    "            v = ewss2[i - 1]\n",
    "            y = sba2[i - 1]\n",
    "        else:\n",
    "            z = a * qsls[i] + (1 - a) * esls2[i - 1]\n",
    "            v = a * (wss[i] + 1) + (1 - a) * ewss2[i - 1]\n",
    "            y = z / v\n",
    "    esls2.append(z)\n",
    "    ewss2.append(v)\n",
    "    sba2.append(y)"
   ]
  },
  {
   "cell_type": "code",
   "execution_count": 67,
   "metadata": {},
   "outputs": [],
   "source": [
    "data['DEMAND_ESTIMATE_95'] = esls2"
   ]
  },
  {
   "cell_type": "code",
   "execution_count": 68,
   "metadata": {},
   "outputs": [],
   "source": [
    "data['INTERVAL_ESTIMATE_95'] = ewss2"
   ]
  },
  {
   "cell_type": "code",
   "execution_count": 69,
   "metadata": {},
   "outputs": [],
   "source": [
    "data['SBA_95'] = sba2"
   ]
  },
  {
   "cell_type": "code",
   "execution_count": 70,
   "metadata": {},
   "outputs": [],
   "source": [
    "data.SBA_95 *= (1 - a / 2)"
   ]
  },
  {
   "cell_type": "code",
   "execution_count": 71,
   "metadata": {},
   "outputs": [],
   "source": [
    "#data.to_parquet('/main/data/MVideo_2/temp_5_2.parquet')"
   ]
  },
  {
   "cell_type": "code",
   "execution_count": 72,
   "metadata": {},
   "outputs": [],
   "source": [
    "data.drop(columns = ['sales.SUM(trans.UNITS_SOLD)_W0', 'sales.SUM(trans.REVENUE_INCL_TAX)_W0', 'START', 'SALES_BIN',\n",
    "                     'SALES_WEEKS', 'SALES_SUM'], inplace = True)"
   ]
  },
  {
   "cell_type": "code",
   "execution_count": 73,
   "metadata": {},
   "outputs": [],
   "source": [
    "data[['WEEK_SINCE_SALE', 'SALES_RANGE', 'NEWNESS']] = data[['WEEK_SINCE_SALE', 'SALES_RANGE', 'NEWNESS']].astype('int32')"
   ]
  },
  {
   "cell_type": "code",
   "execution_count": 74,
   "metadata": {},
   "outputs": [],
   "source": [
    "data[['SALE_FREQUENCY', 'SOLD_AVERAGE', 'DEMAND_ESTIMATE_50', 'INTERVAL_ESTIMATE_50', 'SBA_50', 'DEMAND_ESTIMATE_95',\n",
    "      'INTERVAL_ESTIMATE_95', 'SBA_95']] = data[['SALE_FREQUENCY', 'SOLD_AVERAGE', 'DEMAND_ESTIMATE_50',\n",
    "                                                 'INTERVAL_ESTIMATE_50', 'SBA_50', 'DEMAND_ESTIMATE_95',\n",
    "                                                 'INTERVAL_ESTIMATE_95', 'SBA_95']].astype('float32')"
   ]
  },
  {
   "cell_type": "code",
   "execution_count": 75,
   "metadata": {},
   "outputs": [
    {
     "name": "stdout",
     "output_type": "stream",
     "text": [
      "<class 'pandas.core.frame.DataFrame'>\n",
      "Int64Index: 2831698 entries, 0 to 2831697\n",
      "Data columns (total 15 columns):\n",
      "DATE                    datetime64[ns]\n",
      "PRODUCT_ID              int32\n",
      "STORE_ID                int32\n",
      "PRICE                   float32\n",
      "WEEK_SINCE_SALE         int32\n",
      "SALES_RANGE             int32\n",
      "SALE_FREQUENCY          float32\n",
      "SOLD_AVERAGE            float32\n",
      "NEWNESS                 int32\n",
      "DEMAND_ESTIMATE_50      float32\n",
      "INTERVAL_ESTIMATE_50    float32\n",
      "SBA_50                  float32\n",
      "DEMAND_ESTIMATE_95      float32\n",
      "INTERVAL_ESTIMATE_95    float32\n",
      "SBA_95                  float32\n",
      "dtypes: datetime64[ns](1), float32(9), int32(5)\n",
      "memory usage: 194.4 MB\n"
     ]
    }
   ],
   "source": [
    "data.info()"
   ]
  },
  {
   "cell_type": "code",
   "execution_count": 77,
   "metadata": {},
   "outputs": [],
   "source": [
    "data1 = pd.read_parquet('/main/data/MVideo_2/dataset_main_5_0.parquet')"
   ]
  },
  {
   "cell_type": "code",
   "execution_count": 79,
   "metadata": {},
   "outputs": [],
   "source": [
    "data1 = data1.merge(data)"
   ]
  },
  {
   "cell_type": "code",
   "execution_count": 80,
   "metadata": {},
   "outputs": [
    {
     "name": "stdout",
     "output_type": "stream",
     "text": [
      "<class 'pandas.core.frame.DataFrame'>\n",
      "Int64Index: 2831698 entries, 0 to 2831697\n",
      "Data columns (total 127 columns):\n",
      "DATE                                                datetime64[ns]\n",
      "INTERNET                                            int32\n",
      "MAINCATEGORY_ID                                     int32\n",
      "MONTH(DATE)                                         int32\n",
      "PRODUCT_ID                                          int32\n",
      "PROMOTIONS_AVAILABLE_ABS_DIFF_MEAN_8                float32\n",
      "PROMOTIONS_AVAILABLE_DIFF_P1                        int32\n",
      "PROMOTIONS_AVAILABLE_P1                             int32\n",
      "PROMOTIONS_AVAILABLE_W0                             int32\n",
      "PROMOTIONS_AVAILABLE_W1                             int32\n",
      "PROMOTIONS_AVAILABLE_W2                             int32\n",
      "PROMOTIONS_AVAILABLE_W3                             int32\n",
      "PROMOTIONS_AVAILABLE_W4                             int32\n",
      "PROMOTIONS_AVAILABLE_W5                             int32\n",
      "PROMOTIONS_AVAILABLE_W6                             int32\n",
      "PROMOTIONS_AVAILABLE_W7                             int32\n",
      "PROMOTIONS_AVAILABLE_W8                             int32\n",
      "REGION                                              int32\n",
      "REGULAR_SALES_PRICE_INCL_TAX                        int32\n",
      "STORE_ID                                            int32\n",
      "SUBCATEGORY_ID                                      int32\n",
      "UNITS_SOLD_P1                                       int32\n",
      "WEEK(DATE)                                          int32\n",
      "category.MAX(trans.REVENUE_INCL_TAX_NP)_MEDIAN_4    float32\n",
      "category.MAX(trans.REVENUE_INCL_TAX_P)_DIFF_W2      float32\n",
      "category.MIN(trans.REVENUE_INCL_TAX_NP)_DIFF_W6     float32\n",
      "category.MIN(trans.REVENUE_INCL_TAX_NP)_MEDIAN_4    float32\n",
      "category.STD(trans.REVENUE_INCL_TAX)_W1             float32\n",
      "category.STD(trans.UNITS_SOLD)_W7                   float32\n",
      "category.STD(trans.UNITS_SOLD_NP)_DIFF_W0           float32\n",
      "category.SUM(trans.UNITS_SOLD)_DIFF_MEAN_8          float32\n",
      "category.SUM(trans.UNITS_SOLD)_DIFF_W3              float32\n",
      "category.SUM(trans.UNITS_SOLD)_DIFF_W5              float32\n",
      "category.SUM(trans.UNITS_SOLD_P)_W4                 float32\n",
      "category.SUM(trans.UNITS_SOLD_P)_W7                 float32\n",
      "general.PERCENT_TRUE(holidays.HOLIDAY)              float32\n",
      "general.PERCENT_TRUE(holidays.HOLIDAY)_W1           float32\n",
      "general.PERCENT_TRUE(holidays.HOLIDAY)_W2           float32\n",
      "general.PERCENT_TRUE(holidays.HOLIDAY)_W3           float32\n",
      "general.PERCENT_TRUE(holidays.HOLIDAY)_W4           float32\n",
      "general.PERCENT_TRUE(holidays.HOLIDAY)_W5           float32\n",
      "general.PERCENT_TRUE(holidays.HOLIDAY)_W6           float32\n",
      "general.PERCENT_TRUE(holidays.HOLIDAY)_W7           float32\n",
      "general.PERCENT_TRUE(holidays.HOLIDAY)_W8           float32\n",
      "general.PERCENT_TRUE(holidays.HOLIDAY_P)            float32\n",
      "general.PERCENT_TRUE(holidays.HOLIDAY_SP)           float32\n",
      "general.PERCENT_TRUE(holidays.HOLIDAY_SP)_W1        float32\n",
      "general.PERCENT_TRUE(holidays.HOLIDAY_SP)_W2        float32\n",
      "general.PERCENT_TRUE(holidays.HOLIDAY_SP)_W3        float32\n",
      "general.PERCENT_TRUE(holidays.HOLIDAY_SP)_W4        float32\n",
      "general.PERCENT_TRUE(holidays.HOLIDAY_SP)_W5        float32\n",
      "general.PERCENT_TRUE(holidays.HOLIDAY_SP)_W6        float32\n",
      "general.PERCENT_TRUE(holidays.HOLIDAY_SP)_W7        float32\n",
      "general.PERCENT_TRUE(holidays.HOLIDAY_SP)_W8        float32\n",
      "general.PERCENT_TRUE(holidays.HOLIDAY_SP_P)         float32\n",
      "product.MAX(trans.REVENUE_INCL_TAX)_W7              float32\n",
      "product.MIN(trans.UNITS_SOLD_P)_W7                  float32\n",
      "product.STD(trans.REVENUE_INCL_TAX_P)_MEDIAN_4      float32\n",
      "product.STD(trans.UNITS_SOLD)_DIFF_W3               float32\n",
      "product.STD(trans.UNITS_SOLD)_W7                    float32\n",
      "product.SUM(trans.UNITS_SOLD)_DIFF_MEAN_2           float32\n",
      "product.SUM(trans.UNITS_SOLD)_DIFF_W0               float32\n",
      "product.SUM(trans.UNITS_SOLD)_W0                    float32\n",
      "sales.MAX(trans.REVENUE_INCL_TAX_P)_MEAN_8          float32\n",
      "sales.MAX(trans.UNITS_SOLD)_MAX_2                   float32\n",
      "sales.MIN(trans.UNITS_SOLD_NP)_MEAN_8               float32\n",
      "sales.STD(trans.REVENUE_INCL_TAX_NP)_W4             float32\n",
      "sales.STD(trans.REVENUE_INCL_TAX_NP)_W5             float32\n",
      "sales.STD(trans.UNITS_SOLD_NP)_W4                   float32\n",
      "sales.SUM(trans.REVENUE_INCL_TAX)_MEAN_DECAY_8      float32\n",
      "sales.SUM(trans.REVENUE_INCL_TAX_NP)_MEDIAN_8       float32\n",
      "sales.SUM(trans.UNITS_SOLD)_DIFF_MEAN_2             float32\n",
      "sales.SUM(trans.UNITS_SOLD)_DIFF_MEAN_4             float32\n",
      "sales.SUM(trans.UNITS_SOLD)_DIFF_MEAN_8             float32\n",
      "sales.SUM(trans.UNITS_SOLD)_DIFF_W0                 float32\n",
      "sales.SUM(trans.UNITS_SOLD)_DIFF_W1                 float32\n",
      "sales.SUM(trans.UNITS_SOLD)_DIFF_W2                 float32\n",
      "sales.SUM(trans.UNITS_SOLD)_DIFF_W3                 float32\n",
      "sales.SUM(trans.UNITS_SOLD)_DIFF_W4                 float32\n",
      "sales.SUM(trans.UNITS_SOLD)_DIFF_W5                 float32\n",
      "sales.SUM(trans.UNITS_SOLD)_DIFF_W6                 float32\n",
      "sales.SUM(trans.UNITS_SOLD)_DIFF_W7                 float32\n",
      "sales.SUM(trans.UNITS_SOLD)_MAX_2                   float32\n",
      "sales.SUM(trans.UNITS_SOLD)_MAX_4                   float32\n",
      "sales.SUM(trans.UNITS_SOLD)_MAX_8                   float32\n",
      "sales.SUM(trans.UNITS_SOLD)_MEAN_2                  float32\n",
      "sales.SUM(trans.UNITS_SOLD)_MEAN_4                  float32\n",
      "sales.SUM(trans.UNITS_SOLD)_MEAN_8                  float32\n",
      "sales.SUM(trans.UNITS_SOLD)_MEAN_DECAY_2            float32\n",
      "sales.SUM(trans.UNITS_SOLD)_MEAN_DECAY_4            float32\n",
      "sales.SUM(trans.UNITS_SOLD)_MEAN_DECAY_8            float32\n",
      "sales.SUM(trans.UNITS_SOLD)_MEDIAN_2                float32\n",
      "sales.SUM(trans.UNITS_SOLD)_MEDIAN_4                float32\n",
      "sales.SUM(trans.UNITS_SOLD)_MEDIAN_8                float32\n",
      "sales.SUM(trans.UNITS_SOLD)_MIN_2                   float32\n",
      "sales.SUM(trans.UNITS_SOLD)_MIN_4                   float32\n",
      "sales.SUM(trans.UNITS_SOLD)_MIN_8                   float32\n",
      "sales.SUM(trans.UNITS_SOLD)_STD_2                   float32\n",
      "sales.SUM(trans.UNITS_SOLD)_STD_4                   float32\n",
      "sales.SUM(trans.UNITS_SOLD)_STD_8                   float32\n",
      "sales.SUM(trans.UNITS_SOLD)_W0                      float32\n",
      "sales.SUM(trans.UNITS_SOLD)_W1                      float32\n",
      "sales.SUM(trans.UNITS_SOLD)_W2                      float32\n",
      "sales.SUM(trans.UNITS_SOLD)_W3                      float32\n",
      "sales.SUM(trans.UNITS_SOLD)_W4                      float32\n",
      "sales.SUM(trans.UNITS_SOLD)_W5                      float32\n",
      "sales.SUM(trans.UNITS_SOLD)_W6                      float32\n",
      "sales.SUM(trans.UNITS_SOLD)_W7                      float32\n",
      "sales.SUM(trans.UNITS_SOLD)_W8                      float32\n",
      "store.MAX(trans.REVENUE_INCL_TAX)_W8                float32\n",
      "store.MAX(trans.UNITS_SOLD)_MEAN_8                  float32\n",
      "store.SUM(trans.REVENUE_INCL_TAX)_W5                float32\n",
      "store.SUM(trans.UNITS_SOLD)_MEAN_DECAY_4            float32\n",
      "store.SUM(trans.UNITS_SOLD_P)_MEDIAN_4              float32\n",
      "store.SUM(trans.UNITS_SOLD_P)_MIN_2                 float32\n",
      "PRICE                                               float32\n",
      "WEEK_SINCE_SALE                                     int32\n",
      "SALES_RANGE                                         int32\n",
      "SALE_FREQUENCY                                      float32\n",
      "SOLD_AVERAGE                                        float32\n",
      "NEWNESS                                             int32\n",
      "DEMAND_ESTIMATE_50                                  float32\n",
      "INTERVAL_ESTIMATE_50                                float32\n",
      "SBA_50                                              float32\n",
      "DEMAND_ESTIMATE_95                                  float32\n",
      "INTERVAL_ESTIMATE_95                                float32\n",
      "SBA_95                                              float32\n",
      "dtypes: datetime64[ns](1), float32(102), int32(24)\n",
      "memory usage: 1.4 GB\n"
     ]
    }
   ],
   "source": [
    "data1.info(max_cols = 999)"
   ]
  },
  {
   "cell_type": "code",
   "execution_count": 82,
   "metadata": {},
   "outputs": [],
   "source": [
    "data1.to_parquet('/main/data/MVideo_2/dataset_main_5_1.parquet')"
   ]
  }
 ],
 "metadata": {
  "kernelspec": {
   "display_name": "Python 3",
   "language": "python",
   "name": "python3"
  },
  "language_info": {
   "codemirror_mode": {
    "name": "ipython",
    "version": 3
   },
   "file_extension": ".py",
   "mimetype": "text/x-python",
   "name": "python",
   "nbconvert_exporter": "python",
   "pygments_lexer": "ipython3",
   "version": "3.6.6"
  }
 },
 "nbformat": 4,
 "nbformat_minor": 2
}
